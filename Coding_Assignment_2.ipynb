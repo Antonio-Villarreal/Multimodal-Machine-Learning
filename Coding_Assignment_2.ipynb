{
  "nbformat": 4,
  "nbformat_minor": 0,
  "metadata": {
    "colab": {
      "provenance": [],
      "collapsed_sections": [
        "G_2c96i8z2D5",
        "h1Ku4XyAz5z-",
        "J6KUwG-r0CYd",
        "Phejx4YFcnij",
        "9HPH7XURc4ff",
        "5E3beIzWdViS"
      ]
    },
    "kernelspec": {
      "name": "python3",
      "display_name": "Python 3"
    },
    "language_info": {
      "name": "python"
    },
    "gpuClass": "standard"
  },
  "cells": [
    {
      "cell_type": "markdown",
      "source": [
        "# Multimodal Machine Learning - Coding Assignment 2"
      ],
      "metadata": {
        "id": "uiDnAUZvypSU"
      }
    },
    {
      "cell_type": "markdown",
      "source": [
        "Antonio Villarreal"
      ],
      "metadata": {
        "id": "taQeMhfui8NZ"
      }
    },
    {
      "cell_type": "code",
      "execution_count": 1,
      "metadata": {
        "colab": {
          "base_uri": "https://localhost:8080/"
        },
        "id": "k72kwaJyyNJa",
        "outputId": "dec69440-681a-4cc4-ff86-cae8ee710968"
      },
      "outputs": [
        {
          "output_type": "stream",
          "name": "stdout",
          "text": [
            "Mounted at /content/gdrive\n"
          ]
        }
      ],
      "source": [
        "from google.colab import drive\n",
        "drive.mount('/content/gdrive')"
      ]
    },
    {
      "cell_type": "code",
      "source": [
        "import zipfile\n",
        "\n",
        "# specify the zip file name\n",
        "zip_file = '/content/gdrive/MyDrive/coding_assignment_2.zip'\n",
        "\n",
        "# specify the directory where you want to extract the files\n",
        "extraction_path = '/content/'\n",
        "\n",
        "# extract the files\n",
        "with zipfile.ZipFile(zip_file, 'r') as zip_ref:\n",
        "    zip_ref.extractall(extraction_path)"
      ],
      "metadata": {
        "id": "Mj84Z0RFyuGy"
      },
      "execution_count": 2,
      "outputs": []
    },
    {
      "cell_type": "code",
      "source": [
        "TEST = '/content/coding_assignment_2/test.csv'\n",
        "TRAIN = '/content/coding_assignment_2/train.csv'"
      ],
      "metadata": {
        "id": "d_w7MWDhztqK"
      },
      "execution_count": 3,
      "outputs": []
    },
    {
      "cell_type": "markdown",
      "source": [
        "## 1) Exploratory Data Analysis"
      ],
      "metadata": {
        "id": "G_2c96i8z2D5"
      }
    },
    {
      "cell_type": "code",
      "source": [
        "import pandas as pd\n",
        "import matplotlib.pyplot as plt"
      ],
      "metadata": {
        "id": "cGyiuZxf1-eG"
      },
      "execution_count": null,
      "outputs": []
    },
    {
      "cell_type": "code",
      "source": [
        "# Read the CSV file into a pandas dataframe\n",
        "test_df = pd.read_csv(TEST)\n",
        "train_df = pd.read_csv(TRAIN)"
      ],
      "metadata": {
        "id": "qV9Whzy31juZ"
      },
      "execution_count": null,
      "outputs": []
    },
    {
      "cell_type": "markdown",
      "source": [
        "Snapshot of CSV Files"
      ],
      "metadata": {
        "id": "68lI2FBBm6_-"
      }
    },
    {
      "cell_type": "code",
      "source": [
        "test_df.head()"
      ],
      "metadata": {
        "colab": {
          "base_uri": "https://localhost:8080/"
        },
        "id": "l-N59UIImw0q",
        "outputId": "22b30e6e-696c-4c4b-8913-cf09e0d2d743"
      },
      "execution_count": null,
      "outputs": [
        {
          "output_type": "execute_result",
          "data": {
            "text/plain": [
              "   Index  Sentiment                                               Text\n",
              "0      0          1  @stellargirl I loooooooovvvvvveee my Kindle2. ...\n",
              "1      1          1  Reading my kindle2...  Love it... Lee childs i...\n",
              "2      2          1  Ok, first assesment of the #kindle2 ...it fuck...\n",
              "3      3          1  @kenburbary You'll love your Kindle2. I've had...\n",
              "4      4          1  @mikefish  Fair enough. But i have the Kindle2..."
            ],
            "text/html": [
              "\n",
              "  <div id=\"df-3d146ac4-4c7b-476c-838b-5263054a9bca\">\n",
              "    <div class=\"colab-df-container\">\n",
              "      <div>\n",
              "<style scoped>\n",
              "    .dataframe tbody tr th:only-of-type {\n",
              "        vertical-align: middle;\n",
              "    }\n",
              "\n",
              "    .dataframe tbody tr th {\n",
              "        vertical-align: top;\n",
              "    }\n",
              "\n",
              "    .dataframe thead th {\n",
              "        text-align: right;\n",
              "    }\n",
              "</style>\n",
              "<table border=\"1\" class=\"dataframe\">\n",
              "  <thead>\n",
              "    <tr style=\"text-align: right;\">\n",
              "      <th></th>\n",
              "      <th>Index</th>\n",
              "      <th>Sentiment</th>\n",
              "      <th>Text</th>\n",
              "    </tr>\n",
              "  </thead>\n",
              "  <tbody>\n",
              "    <tr>\n",
              "      <th>0</th>\n",
              "      <td>0</td>\n",
              "      <td>1</td>\n",
              "      <td>@stellargirl I loooooooovvvvvveee my Kindle2. ...</td>\n",
              "    </tr>\n",
              "    <tr>\n",
              "      <th>1</th>\n",
              "      <td>1</td>\n",
              "      <td>1</td>\n",
              "      <td>Reading my kindle2...  Love it... Lee childs i...</td>\n",
              "    </tr>\n",
              "    <tr>\n",
              "      <th>2</th>\n",
              "      <td>2</td>\n",
              "      <td>1</td>\n",
              "      <td>Ok, first assesment of the #kindle2 ...it fuck...</td>\n",
              "    </tr>\n",
              "    <tr>\n",
              "      <th>3</th>\n",
              "      <td>3</td>\n",
              "      <td>1</td>\n",
              "      <td>@kenburbary You'll love your Kindle2. I've had...</td>\n",
              "    </tr>\n",
              "    <tr>\n",
              "      <th>4</th>\n",
              "      <td>4</td>\n",
              "      <td>1</td>\n",
              "      <td>@mikefish  Fair enough. But i have the Kindle2...</td>\n",
              "    </tr>\n",
              "  </tbody>\n",
              "</table>\n",
              "</div>\n",
              "      <button class=\"colab-df-convert\" onclick=\"convertToInteractive('df-3d146ac4-4c7b-476c-838b-5263054a9bca')\"\n",
              "              title=\"Convert this dataframe to an interactive table.\"\n",
              "              style=\"display:none;\">\n",
              "        \n",
              "  <svg xmlns=\"http://www.w3.org/2000/svg\" height=\"24px\"viewBox=\"0 0 24 24\"\n",
              "       width=\"24px\">\n",
              "    <path d=\"M0 0h24v24H0V0z\" fill=\"none\"/>\n",
              "    <path d=\"M18.56 5.44l.94 2.06.94-2.06 2.06-.94-2.06-.94-.94-2.06-.94 2.06-2.06.94zm-11 1L8.5 8.5l.94-2.06 2.06-.94-2.06-.94L8.5 2.5l-.94 2.06-2.06.94zm10 10l.94 2.06.94-2.06 2.06-.94-2.06-.94-.94-2.06-.94 2.06-2.06.94z\"/><path d=\"M17.41 7.96l-1.37-1.37c-.4-.4-.92-.59-1.43-.59-.52 0-1.04.2-1.43.59L10.3 9.45l-7.72 7.72c-.78.78-.78 2.05 0 2.83L4 21.41c.39.39.9.59 1.41.59.51 0 1.02-.2 1.41-.59l7.78-7.78 2.81-2.81c.8-.78.8-2.07 0-2.86zM5.41 20L4 18.59l7.72-7.72 1.47 1.35L5.41 20z\"/>\n",
              "  </svg>\n",
              "      </button>\n",
              "      \n",
              "  <style>\n",
              "    .colab-df-container {\n",
              "      display:flex;\n",
              "      flex-wrap:wrap;\n",
              "      gap: 12px;\n",
              "    }\n",
              "\n",
              "    .colab-df-convert {\n",
              "      background-color: #E8F0FE;\n",
              "      border: none;\n",
              "      border-radius: 50%;\n",
              "      cursor: pointer;\n",
              "      display: none;\n",
              "      fill: #1967D2;\n",
              "      height: 32px;\n",
              "      padding: 0 0 0 0;\n",
              "      width: 32px;\n",
              "    }\n",
              "\n",
              "    .colab-df-convert:hover {\n",
              "      background-color: #E2EBFA;\n",
              "      box-shadow: 0px 1px 2px rgba(60, 64, 67, 0.3), 0px 1px 3px 1px rgba(60, 64, 67, 0.15);\n",
              "      fill: #174EA6;\n",
              "    }\n",
              "\n",
              "    [theme=dark] .colab-df-convert {\n",
              "      background-color: #3B4455;\n",
              "      fill: #D2E3FC;\n",
              "    }\n",
              "\n",
              "    [theme=dark] .colab-df-convert:hover {\n",
              "      background-color: #434B5C;\n",
              "      box-shadow: 0px 1px 3px 1px rgba(0, 0, 0, 0.15);\n",
              "      filter: drop-shadow(0px 1px 2px rgba(0, 0, 0, 0.3));\n",
              "      fill: #FFFFFF;\n",
              "    }\n",
              "  </style>\n",
              "\n",
              "      <script>\n",
              "        const buttonEl =\n",
              "          document.querySelector('#df-3d146ac4-4c7b-476c-838b-5263054a9bca button.colab-df-convert');\n",
              "        buttonEl.style.display =\n",
              "          google.colab.kernel.accessAllowed ? 'block' : 'none';\n",
              "\n",
              "        async function convertToInteractive(key) {\n",
              "          const element = document.querySelector('#df-3d146ac4-4c7b-476c-838b-5263054a9bca');\n",
              "          const dataTable =\n",
              "            await google.colab.kernel.invokeFunction('convertToInteractive',\n",
              "                                                     [key], {});\n",
              "          if (!dataTable) return;\n",
              "\n",
              "          const docLinkHtml = 'Like what you see? Visit the ' +\n",
              "            '<a target=\"_blank\" href=https://colab.research.google.com/notebooks/data_table.ipynb>data table notebook</a>'\n",
              "            + ' to learn more about interactive tables.';\n",
              "          element.innerHTML = '';\n",
              "          dataTable['output_type'] = 'display_data';\n",
              "          await google.colab.output.renderOutput(dataTable, element);\n",
              "          const docLink = document.createElement('div');\n",
              "          docLink.innerHTML = docLinkHtml;\n",
              "          element.appendChild(docLink);\n",
              "        }\n",
              "      </script>\n",
              "    </div>\n",
              "  </div>\n",
              "  "
            ]
          },
          "metadata": {},
          "execution_count": 6
        }
      ]
    },
    {
      "cell_type": "code",
      "source": [
        "train_df.head()"
      ],
      "metadata": {
        "colab": {
          "base_uri": "https://localhost:8080/"
        },
        "id": "1b5npxFymyuK",
        "outputId": "ee59f2f2-b227-40fa-a145-087539f3cfb3"
      },
      "execution_count": null,
      "outputs": [
        {
          "output_type": "execute_result",
          "data": {
            "text/plain": [
              "   Index  Sentiment                                               Text\n",
              "0      0          0  @switchfoot http://twitpic.com/2y1zl - Awww, t...\n",
              "1      1          0  is upset that he can't update his Facebook by ...\n",
              "2      2          0  @Kenichan I dived many times for the ball. Man...\n",
              "3      3          0    my whole body feels itchy and like its on fire \n",
              "4      4          0  @nationwideclass no, it's not behaving at all...."
            ],
            "text/html": [
              "\n",
              "  <div id=\"df-5462a1a0-4f32-499c-85cd-7fdfd73d0d33\">\n",
              "    <div class=\"colab-df-container\">\n",
              "      <div>\n",
              "<style scoped>\n",
              "    .dataframe tbody tr th:only-of-type {\n",
              "        vertical-align: middle;\n",
              "    }\n",
              "\n",
              "    .dataframe tbody tr th {\n",
              "        vertical-align: top;\n",
              "    }\n",
              "\n",
              "    .dataframe thead th {\n",
              "        text-align: right;\n",
              "    }\n",
              "</style>\n",
              "<table border=\"1\" class=\"dataframe\">\n",
              "  <thead>\n",
              "    <tr style=\"text-align: right;\">\n",
              "      <th></th>\n",
              "      <th>Index</th>\n",
              "      <th>Sentiment</th>\n",
              "      <th>Text</th>\n",
              "    </tr>\n",
              "  </thead>\n",
              "  <tbody>\n",
              "    <tr>\n",
              "      <th>0</th>\n",
              "      <td>0</td>\n",
              "      <td>0</td>\n",
              "      <td>@switchfoot http://twitpic.com/2y1zl - Awww, t...</td>\n",
              "    </tr>\n",
              "    <tr>\n",
              "      <th>1</th>\n",
              "      <td>1</td>\n",
              "      <td>0</td>\n",
              "      <td>is upset that he can't update his Facebook by ...</td>\n",
              "    </tr>\n",
              "    <tr>\n",
              "      <th>2</th>\n",
              "      <td>2</td>\n",
              "      <td>0</td>\n",
              "      <td>@Kenichan I dived many times for the ball. Man...</td>\n",
              "    </tr>\n",
              "    <tr>\n",
              "      <th>3</th>\n",
              "      <td>3</td>\n",
              "      <td>0</td>\n",
              "      <td>my whole body feels itchy and like its on fire</td>\n",
              "    </tr>\n",
              "    <tr>\n",
              "      <th>4</th>\n",
              "      <td>4</td>\n",
              "      <td>0</td>\n",
              "      <td>@nationwideclass no, it's not behaving at all....</td>\n",
              "    </tr>\n",
              "  </tbody>\n",
              "</table>\n",
              "</div>\n",
              "      <button class=\"colab-df-convert\" onclick=\"convertToInteractive('df-5462a1a0-4f32-499c-85cd-7fdfd73d0d33')\"\n",
              "              title=\"Convert this dataframe to an interactive table.\"\n",
              "              style=\"display:none;\">\n",
              "        \n",
              "  <svg xmlns=\"http://www.w3.org/2000/svg\" height=\"24px\"viewBox=\"0 0 24 24\"\n",
              "       width=\"24px\">\n",
              "    <path d=\"M0 0h24v24H0V0z\" fill=\"none\"/>\n",
              "    <path d=\"M18.56 5.44l.94 2.06.94-2.06 2.06-.94-2.06-.94-.94-2.06-.94 2.06-2.06.94zm-11 1L8.5 8.5l.94-2.06 2.06-.94-2.06-.94L8.5 2.5l-.94 2.06-2.06.94zm10 10l.94 2.06.94-2.06 2.06-.94-2.06-.94-.94-2.06-.94 2.06-2.06.94z\"/><path d=\"M17.41 7.96l-1.37-1.37c-.4-.4-.92-.59-1.43-.59-.52 0-1.04.2-1.43.59L10.3 9.45l-7.72 7.72c-.78.78-.78 2.05 0 2.83L4 21.41c.39.39.9.59 1.41.59.51 0 1.02-.2 1.41-.59l7.78-7.78 2.81-2.81c.8-.78.8-2.07 0-2.86zM5.41 20L4 18.59l7.72-7.72 1.47 1.35L5.41 20z\"/>\n",
              "  </svg>\n",
              "      </button>\n",
              "      \n",
              "  <style>\n",
              "    .colab-df-container {\n",
              "      display:flex;\n",
              "      flex-wrap:wrap;\n",
              "      gap: 12px;\n",
              "    }\n",
              "\n",
              "    .colab-df-convert {\n",
              "      background-color: #E8F0FE;\n",
              "      border: none;\n",
              "      border-radius: 50%;\n",
              "      cursor: pointer;\n",
              "      display: none;\n",
              "      fill: #1967D2;\n",
              "      height: 32px;\n",
              "      padding: 0 0 0 0;\n",
              "      width: 32px;\n",
              "    }\n",
              "\n",
              "    .colab-df-convert:hover {\n",
              "      background-color: #E2EBFA;\n",
              "      box-shadow: 0px 1px 2px rgba(60, 64, 67, 0.3), 0px 1px 3px 1px rgba(60, 64, 67, 0.15);\n",
              "      fill: #174EA6;\n",
              "    }\n",
              "\n",
              "    [theme=dark] .colab-df-convert {\n",
              "      background-color: #3B4455;\n",
              "      fill: #D2E3FC;\n",
              "    }\n",
              "\n",
              "    [theme=dark] .colab-df-convert:hover {\n",
              "      background-color: #434B5C;\n",
              "      box-shadow: 0px 1px 3px 1px rgba(0, 0, 0, 0.15);\n",
              "      filter: drop-shadow(0px 1px 2px rgba(0, 0, 0, 0.3));\n",
              "      fill: #FFFFFF;\n",
              "    }\n",
              "  </style>\n",
              "\n",
              "      <script>\n",
              "        const buttonEl =\n",
              "          document.querySelector('#df-5462a1a0-4f32-499c-85cd-7fdfd73d0d33 button.colab-df-convert');\n",
              "        buttonEl.style.display =\n",
              "          google.colab.kernel.accessAllowed ? 'block' : 'none';\n",
              "\n",
              "        async function convertToInteractive(key) {\n",
              "          const element = document.querySelector('#df-5462a1a0-4f32-499c-85cd-7fdfd73d0d33');\n",
              "          const dataTable =\n",
              "            await google.colab.kernel.invokeFunction('convertToInteractive',\n",
              "                                                     [key], {});\n",
              "          if (!dataTable) return;\n",
              "\n",
              "          const docLinkHtml = 'Like what you see? Visit the ' +\n",
              "            '<a target=\"_blank\" href=https://colab.research.google.com/notebooks/data_table.ipynb>data table notebook</a>'\n",
              "            + ' to learn more about interactive tables.';\n",
              "          element.innerHTML = '';\n",
              "          dataTable['output_type'] = 'display_data';\n",
              "          await google.colab.output.renderOutput(dataTable, element);\n",
              "          const docLink = document.createElement('div');\n",
              "          docLink.innerHTML = docLinkHtml;\n",
              "          element.appendChild(docLink);\n",
              "        }\n",
              "      </script>\n",
              "    </div>\n",
              "  </div>\n",
              "  "
            ]
          },
          "metadata": {},
          "execution_count": 7
        }
      ]
    },
    {
      "cell_type": "markdown",
      "source": [
        "Checking for any missing values and removing them from Test CSV"
      ],
      "metadata": {
        "id": "tv9EaeBcnAF3"
      }
    },
    {
      "cell_type": "code",
      "source": [
        "# Check for missing values\n",
        "print(test_df.isnull().sum())\n",
        "\n",
        "# Remove rows with missing values\n",
        "test_df.dropna(inplace=True)\n",
        "\n",
        "# Remove duplicates\n",
        "test_df.drop_duplicates(inplace=True)\n",
        "\n",
        "# Reset the index\n",
        "test_df.reset_index(drop=True, inplace=True)"
      ],
      "metadata": {
        "id": "R3pG_LxL1xF-",
        "colab": {
          "base_uri": "https://localhost:8080/"
        },
        "outputId": "93cd7fb4-bd83-4dc7-fbb0-7ad5ad5a073c"
      },
      "execution_count": null,
      "outputs": [
        {
          "output_type": "stream",
          "name": "stdout",
          "text": [
            "Index        0\n",
            "Sentiment    0\n",
            "Text         0\n",
            "dtype: int64\n"
          ]
        }
      ]
    },
    {
      "cell_type": "markdown",
      "source": [
        "Checking for any missing values and removing them from Train CSV"
      ],
      "metadata": {
        "id": "OfBp155QnJbh"
      }
    },
    {
      "cell_type": "code",
      "source": [
        "# Check for missing values\n",
        "print(train_df.isnull().sum())\n",
        "\n",
        "# Remove rows with missing values\n",
        "train_df.dropna(inplace=True)\n",
        "\n",
        "# Remove duplicates\n",
        "train_df.drop_duplicates(inplace=True)\n",
        "\n",
        "# Reset the index\n",
        "train_df.reset_index(drop=True, inplace=True)"
      ],
      "metadata": {
        "colab": {
          "base_uri": "https://localhost:8080/"
        },
        "id": "9Hwu2ADWlwSb",
        "outputId": "a39a2969-701a-4913-aaf1-727ed3d1f3f2"
      },
      "execution_count": null,
      "outputs": [
        {
          "output_type": "stream",
          "name": "stdout",
          "text": [
            "Index        0\n",
            "Sentiment    0\n",
            "Text         0\n",
            "dtype: int64\n"
          ]
        }
      ]
    },
    {
      "cell_type": "code",
      "source": [
        "# Read the CSV file into a pandas dataframe\n",
        "test_df = pd.read_csv(TEST)\n",
        "train_df = pd.read_csv(TRAIN)"
      ],
      "metadata": {
        "id": "nc5hpMcHmIgW"
      },
      "execution_count": null,
      "outputs": []
    },
    {
      "cell_type": "markdown",
      "source": [
        "Counting the number of tuples of data"
      ],
      "metadata": {
        "id": "Zx0yUfkznNd9"
      }
    },
    {
      "cell_type": "code",
      "source": [
        "# Get the number of rows in the dataframe\n",
        "test_rows = test_df.shape[0]\n",
        "train_rows = train_df.shape[0]\n",
        "\n",
        "print(f\"Number of tuples of Testing data: \", test_rows)\n",
        "print(f\"Number of tuples of Training data: \", train_rows)"
      ],
      "metadata": {
        "colab": {
          "base_uri": "https://localhost:8080/"
        },
        "id": "H8ozSWu0lRL4",
        "outputId": "45d85c18-b7d6-448f-9636-3b07536fef17"
      },
      "execution_count": null,
      "outputs": [
        {
          "output_type": "stream",
          "name": "stdout",
          "text": [
            "Number of tuples of Testing data:  359\n",
            "Number of tuples of Training data:  1048575\n"
          ]
        }
      ]
    },
    {
      "cell_type": "markdown",
      "source": [
        "Checking the sentiment distribution"
      ],
      "metadata": {
        "id": "l1nlzYEEnSfn"
      }
    },
    {
      "cell_type": "code",
      "source": [
        "# Create a figure with two subplots\n",
        "fig, axs = plt.subplots(1, 2, figsize=(10, 5))\n",
        "\n",
        "# Plot the distribution of sentiment for the test data\n",
        "sentiment_counts = test_df['Sentiment'].value_counts()\n",
        "axs[0].bar(['Negative', 'Positive'], sentiment_counts)\n",
        "axs[0].set_xlabel('Sentiment')\n",
        "axs[0].set_ylabel('Frequency')\n",
        "axs[0].set_title('Distribution of Sentiment for Testing Data')\n",
        "for i, v in enumerate(sentiment_counts):\n",
        "    axs[0].text(i, v + 1, str(v), ha='center')\n",
        "\n",
        "# Plot the distribution of sentiment for the training data\n",
        "sentiment_counts = train_df['Sentiment'].value_counts()\n",
        "axs[1].bar(['Negative', 'Positive'], sentiment_counts)\n",
        "axs[1].set_xlabel('Sentiment')\n",
        "axs[1].set_ylabel('Frequency')\n",
        "axs[1].set_title('Distribution of Sentiment for Training Data')\n",
        "for i, v in enumerate(sentiment_counts):\n",
        "    axs[1].text(i, v + 1, str(v), ha='center')\n",
        "\n",
        "# Adjust the layout of the plots\n",
        "fig.tight_layout()\n",
        "\n",
        "# Show the plots\n",
        "plt.show()"
      ],
      "metadata": {
        "colab": {
          "base_uri": "https://localhost:8080/"
        },
        "id": "MtNEAS893MyJ",
        "outputId": "2c9fb047-e958-471d-fd6f-3415297433f3"
      },
      "execution_count": null,
      "outputs": [
        {
          "output_type": "display_data",
          "data": {
            "text/plain": [
              "<Figure size 720x360 with 2 Axes>"
            ],
            "image/png": "[encoded data removed]"
          },
          "metadata": {
            "needs_background": "light"
          }
        }
      ]
    },
    {
      "cell_type": "markdown",
      "source": [
        "Confirming that there are no missing values"
      ],
      "metadata": {
        "id": "78Tm1tBenX8v"
      }
    },
    {
      "cell_type": "code",
      "source": [
        "# Check for missing values in the \"Sentiment\" column\n",
        "sentiment_missing = test_df['Sentiment'].isna().sum()\n",
        "\n",
        "# Check for missing values in the \"Text\" column\n",
        "text_missing = test_df['Text'].isna().sum()\n",
        "\n",
        "# Print the number of missing values in each column\n",
        "print(f\"Missing values in Sentiment column for Testing Data: {sentiment_missing}\")\n",
        "print(f\"Missing values in Text column for Testing Data: {text_missing}\")\n",
        "\n",
        "# Check for missing values in the \"Sentiment\" column\n",
        "sentiment_missing = train_df['Sentiment'].isna().sum()\n",
        "\n",
        "# Check for missing values in the \"Text\" column\n",
        "text_missing = train_df['Text'].isna().sum()\n",
        "\n",
        "# Print the number of missing values in each column\n",
        "print(f\"Missing values in Sentiment column for Training Data: {sentiment_missing}\")\n",
        "print(f\"Missing values in Text column for Training Data: {text_missing}\")"
      ],
      "metadata": {
        "colab": {
          "base_uri": "https://localhost:8080/"
        },
        "id": "mEjTD3rF2_J6",
        "outputId": "a7546dba-02b6-41ff-9eb2-fe2e183d7a68"
      },
      "execution_count": null,
      "outputs": [
        {
          "output_type": "stream",
          "name": "stdout",
          "text": [
            "Missing values in Sentiment column for Testing Data: 0\n",
            "Missing values in Text column for Testing Data: 0\n",
            "Missing values in Sentiment column for Training Data: 0\n",
            "Missing values in Text column for Training Data: 0\n"
          ]
        }
      ]
    },
    {
      "cell_type": "code",
      "source": [
        "test_df.to_csv('/content/coding_assignment_2/step1_test.csv', index=False, mode='w')\n",
        "train_df.to_csv('/content/coding_assignment_2/step1_train.csv', index=False, mode='w')"
      ],
      "metadata": {
        "id": "OzjlrF0bvRgb"
      },
      "execution_count": null,
      "outputs": []
    },
    {
      "cell_type": "code",
      "source": [
        "TEST = '/content/coding_assignment_2/step1_test.csv'\n",
        "TRAIN = '/content/coding_assignment_2/step1_train.csv'"
      ],
      "metadata": {
        "id": "me2QHkVRvmDp"
      },
      "execution_count": null,
      "outputs": []
    },
    {
      "cell_type": "markdown",
      "source": [
        "## 2) Text Preprocessing"
      ],
      "metadata": {
        "id": "h1Ku4XyAz5z-"
      }
    },
    {
      "cell_type": "code",
      "source": [
        "import pandas as pd\n",
        "import re\n",
        "import nltk\n",
        "nltk.download('punkt')\n",
        "nltk.download('averaged_perceptron_tagger')\n",
        "nltk.download('stopwords')\n",
        "nltk.download('wordnet')\n",
        "nltk.download('omw-1.4')\n",
        "from nltk.tokenize import word_tokenize\n",
        "from nltk.stem import WordNetLemmatizer\n",
        "from nltk.stem.snowball import SnowballStemmer\n",
        "from nltk.corpus import stopwords"
      ],
      "metadata": {
        "id": "B2w_xcCk6gXm",
        "colab": {
          "base_uri": "https://localhost:8080/"
        },
        "outputId": "e0efe3dc-8fc9-4364-d0f6-6d3c8a30ac08"
      },
      "execution_count": null,
      "outputs": [
        {
          "output_type": "stream",
          "name": "stderr",
          "text": [
            "[nltk_data] Downloading package punkt to /root/nltk_data...\n",
            "[nltk_data]   Unzipping tokenizers/punkt.zip.\n",
            "[nltk_data] Downloading package averaged_perceptron_tagger to\n",
            "[nltk_data]     /root/nltk_data...\n",
            "[nltk_data]   Unzipping taggers/averaged_perceptron_tagger.zip.\n",
            "[nltk_data] Downloading package stopwords to /root/nltk_data...\n",
            "[nltk_data]   Unzipping corpora/stopwords.zip.\n",
            "[nltk_data] Downloading package wordnet to /root/nltk_data...\n",
            "[nltk_data] Downloading package omw-1.4 to /root/nltk_data...\n"
          ]
        }
      ]
    },
    {
      "cell_type": "code",
      "source": [
        "# Read the testing data CSV file\n",
        "test_data = pd.read_csv(TEST)\n",
        "train_data = pd.read_csv(TRAIN)"
      ],
      "metadata": {
        "id": "J5CGWXmjqhC-"
      },
      "execution_count": null,
      "outputs": []
    },
    {
      "cell_type": "markdown",
      "source": [
        "3. Change Case"
      ],
      "metadata": {
        "id": "Yy7ub1CRqlCm"
      }
    },
    {
      "cell_type": "code",
      "source": [
        "test_df['Text'] = test_df['Text'].str.lower()\n",
        "train_df['Text'] = train_df['Text'].str.lower()"
      ],
      "metadata": {
        "id": "NUG5_Ni5qko-"
      },
      "execution_count": null,
      "outputs": []
    },
    {
      "cell_type": "code",
      "source": [
        "test_df.head()"
      ],
      "metadata": {
        "id": "q9VQdxbtuDm_",
        "colab": {
          "base_uri": "https://localhost:8080/"
        },
        "outputId": "a37d05b6-95e6-4b75-ead7-3925bd95b125"
      },
      "execution_count": null,
      "outputs": [
        {
          "output_type": "execute_result",
          "data": {
            "text/plain": [
              "   Index  Sentiment                                               Text\n",
              "0      0          1  @stellargirl i loooooooovvvvvveee my kindle2. ...\n",
              "1      1          1  reading my kindle2...  love it... lee childs i...\n",
              "2      2          1  ok, first assesment of the #kindle2 ...it fuck...\n",
              "3      3          1  @kenburbary you'll love your kindle2. i've had...\n",
              "4      4          1  @mikefish  fair enough. but i have the kindle2..."
            ],
            "text/html": [
              "\n",
              "  <div id=\"df-e9526ffc-b278-490b-b5ee-fa6feddad821\">\n",
              "    <div class=\"colab-df-container\">\n",
              "      <div>\n",
              "<style scoped>\n",
              "    .dataframe tbody tr th:only-of-type {\n",
              "        vertical-align: middle;\n",
              "    }\n",
              "\n",
              "    .dataframe tbody tr th {\n",
              "        vertical-align: top;\n",
              "    }\n",
              "\n",
              "    .dataframe thead th {\n",
              "        text-align: right;\n",
              "    }\n",
              "</style>\n",
              "<table border=\"1\" class=\"dataframe\">\n",
              "  <thead>\n",
              "    <tr style=\"text-align: right;\">\n",
              "      <th></th>\n",
              "      <th>Index</th>\n",
              "      <th>Sentiment</th>\n",
              "      <th>Text</th>\n",
              "    </tr>\n",
              "  </thead>\n",
              "  <tbody>\n",
              "    <tr>\n",
              "      <th>0</th>\n",
              "      <td>0</td>\n",
              "      <td>1</td>\n",
              "      <td>@stellargirl i loooooooovvvvvveee my kindle2. ...</td>\n",
              "    </tr>\n",
              "    <tr>\n",
              "      <th>1</th>\n",
              "      <td>1</td>\n",
              "      <td>1</td>\n",
              "      <td>reading my kindle2...  love it... lee childs i...</td>\n",
              "    </tr>\n",
              "    <tr>\n",
              "      <th>2</th>\n",
              "      <td>2</td>\n",
              "      <td>1</td>\n",
              "      <td>ok, first assesment of the #kindle2 ...it fuck...</td>\n",
              "    </tr>\n",
              "    <tr>\n",
              "      <th>3</th>\n",
              "      <td>3</td>\n",
              "      <td>1</td>\n",
              "      <td>@kenburbary you'll love your kindle2. i've had...</td>\n",
              "    </tr>\n",
              "    <tr>\n",
              "      <th>4</th>\n",
              "      <td>4</td>\n",
              "      <td>1</td>\n",
              "      <td>@mikefish  fair enough. but i have the kindle2...</td>\n",
              "    </tr>\n",
              "  </tbody>\n",
              "</table>\n",
              "</div>\n",
              "      <button class=\"colab-df-convert\" onclick=\"convertToInteractive('df-e9526ffc-b278-490b-b5ee-fa6feddad821')\"\n",
              "              title=\"Convert this dataframe to an interactive table.\"\n",
              "              style=\"display:none;\">\n",
              "        \n",
              "  <svg xmlns=\"http://www.w3.org/2000/svg\" height=\"24px\"viewBox=\"0 0 24 24\"\n",
              "       width=\"24px\">\n",
              "    <path d=\"M0 0h24v24H0V0z\" fill=\"none\"/>\n",
              "    <path d=\"M18.56 5.44l.94 2.06.94-2.06 2.06-.94-2.06-.94-.94-2.06-.94 2.06-2.06.94zm-11 1L8.5 8.5l.94-2.06 2.06-.94-2.06-.94L8.5 2.5l-.94 2.06-2.06.94zm10 10l.94 2.06.94-2.06 2.06-.94-2.06-.94-.94-2.06-.94 2.06-2.06.94z\"/><path d=\"M17.41 7.96l-1.37-1.37c-.4-.4-.92-.59-1.43-.59-.52 0-1.04.2-1.43.59L10.3 9.45l-7.72 7.72c-.78.78-.78 2.05 0 2.83L4 21.41c.39.39.9.59 1.41.59.51 0 1.02-.2 1.41-.59l7.78-7.78 2.81-2.81c.8-.78.8-2.07 0-2.86zM5.41 20L4 18.59l7.72-7.72 1.47 1.35L5.41 20z\"/>\n",
              "  </svg>\n",
              "      </button>\n",
              "      \n",
              "  <style>\n",
              "    .colab-df-container {\n",
              "      display:flex;\n",
              "      flex-wrap:wrap;\n",
              "      gap: 12px;\n",
              "    }\n",
              "\n",
              "    .colab-df-convert {\n",
              "      background-color: #E8F0FE;\n",
              "      border: none;\n",
              "      border-radius: 50%;\n",
              "      cursor: pointer;\n",
              "      display: none;\n",
              "      fill: #1967D2;\n",
              "      height: 32px;\n",
              "      padding: 0 0 0 0;\n",
              "      width: 32px;\n",
              "    }\n",
              "\n",
              "    .colab-df-convert:hover {\n",
              "      background-color: #E2EBFA;\n",
              "      box-shadow: 0px 1px 2px rgba(60, 64, 67, 0.3), 0px 1px 3px 1px rgba(60, 64, 67, 0.15);\n",
              "      fill: #174EA6;\n",
              "    }\n",
              "\n",
              "    [theme=dark] .colab-df-convert {\n",
              "      background-color: #3B4455;\n",
              "      fill: #D2E3FC;\n",
              "    }\n",
              "\n",
              "    [theme=dark] .colab-df-convert:hover {\n",
              "      background-color: #434B5C;\n",
              "      box-shadow: 0px 1px 3px 1px rgba(0, 0, 0, 0.15);\n",
              "      filter: drop-shadow(0px 1px 2px rgba(0, 0, 0, 0.3));\n",
              "      fill: #FFFFFF;\n",
              "    }\n",
              "  </style>\n",
              "\n",
              "      <script>\n",
              "        const buttonEl =\n",
              "          document.querySelector('#df-e9526ffc-b278-490b-b5ee-fa6feddad821 button.colab-df-convert');\n",
              "        buttonEl.style.display =\n",
              "          google.colab.kernel.accessAllowed ? 'block' : 'none';\n",
              "\n",
              "        async function convertToInteractive(key) {\n",
              "          const element = document.querySelector('#df-e9526ffc-b278-490b-b5ee-fa6feddad821');\n",
              "          const dataTable =\n",
              "            await google.colab.kernel.invokeFunction('convertToInteractive',\n",
              "                                                     [key], {});\n",
              "          if (!dataTable) return;\n",
              "\n",
              "          const docLinkHtml = 'Like what you see? Visit the ' +\n",
              "            '<a target=\"_blank\" href=https://colab.research.google.com/notebooks/data_table.ipynb>data table notebook</a>'\n",
              "            + ' to learn more about interactive tables.';\n",
              "          element.innerHTML = '';\n",
              "          dataTable['output_type'] = 'display_data';\n",
              "          await google.colab.output.renderOutput(dataTable, element);\n",
              "          const docLink = document.createElement('div');\n",
              "          docLink.innerHTML = docLinkHtml;\n",
              "          element.appendChild(docLink);\n",
              "        }\n",
              "      </script>\n",
              "    </div>\n",
              "  </div>\n",
              "  "
            ]
          },
          "metadata": {},
          "execution_count": 19
        }
      ]
    },
    {
      "cell_type": "markdown",
      "source": [
        "4. Remove Stop-Words"
      ],
      "metadata": {
        "id": "pPiGlOkfrBAt"
      }
    },
    {
      "cell_type": "code",
      "source": [
        "stop_words = set(stopwords.words('english'))\n",
        "test_df['Text'] = test_df['Text'].apply(lambda x: ' '.join(word for word in x.split() if word not in stop_words))\n",
        "train_df['Text'] = train_df['Text'].apply(lambda x: ' '.join(word for word in x.split() if word not in stop_words))"
      ],
      "metadata": {
        "id": "DNV7YvRFrvB4"
      },
      "execution_count": null,
      "outputs": []
    },
    {
      "cell_type": "code",
      "source": [
        "test_df.head()"
      ],
      "metadata": {
        "id": "YBBkLxYFug89",
        "colab": {
          "base_uri": "https://localhost:8080/"
        },
        "outputId": "8beeb35c-7514-4a01-9345-37afecf334bd"
      },
      "execution_count": null,
      "outputs": [
        {
          "output_type": "execute_result",
          "data": {
            "text/plain": [
              "   Index  Sentiment                                               Text\n",
              "0      0          1  @stellargirl loooooooovvvvvveee kindle2. dx co...\n",
              "1      1          1  reading kindle2... love it... lee childs good ...\n",
              "2      2          1  ok, first assesment #kindle2 ...it fucking roc...\n",
              "3      3          1  @kenburbary love kindle2. i've mine months nev...\n",
              "4      4          1    @mikefish fair enough. kindle2 think perfect :)"
            ],
            "text/html": [
              "\n",
              "  <div id=\"df-dc27cc0e-a7ce-466e-a35b-45572ee957d4\">\n",
              "    <div class=\"colab-df-container\">\n",
              "      <div>\n",
              "<style scoped>\n",
              "    .dataframe tbody tr th:only-of-type {\n",
              "        vertical-align: middle;\n",
              "    }\n",
              "\n",
              "    .dataframe tbody tr th {\n",
              "        vertical-align: top;\n",
              "    }\n",
              "\n",
              "    .dataframe thead th {\n",
              "        text-align: right;\n",
              "    }\n",
              "</style>\n",
              "<table border=\"1\" class=\"dataframe\">\n",
              "  <thead>\n",
              "    <tr style=\"text-align: right;\">\n",
              "      <th></th>\n",
              "      <th>Index</th>\n",
              "      <th>Sentiment</th>\n",
              "      <th>Text</th>\n",
              "    </tr>\n",
              "  </thead>\n",
              "  <tbody>\n",
              "    <tr>\n",
              "      <th>0</th>\n",
              "      <td>0</td>\n",
              "      <td>1</td>\n",
              "      <td>@stellargirl loooooooovvvvvveee kindle2. dx co...</td>\n",
              "    </tr>\n",
              "    <tr>\n",
              "      <th>1</th>\n",
              "      <td>1</td>\n",
              "      <td>1</td>\n",
              "      <td>reading kindle2... love it... lee childs good ...</td>\n",
              "    </tr>\n",
              "    <tr>\n",
              "      <th>2</th>\n",
              "      <td>2</td>\n",
              "      <td>1</td>\n",
              "      <td>ok, first assesment #kindle2 ...it fucking roc...</td>\n",
              "    </tr>\n",
              "    <tr>\n",
              "      <th>3</th>\n",
              "      <td>3</td>\n",
              "      <td>1</td>\n",
              "      <td>@kenburbary love kindle2. i've mine months nev...</td>\n",
              "    </tr>\n",
              "    <tr>\n",
              "      <th>4</th>\n",
              "      <td>4</td>\n",
              "      <td>1</td>\n",
              "      <td>@mikefish fair enough. kindle2 think perfect :)</td>\n",
              "    </tr>\n",
              "  </tbody>\n",
              "</table>\n",
              "</div>\n",
              "      <button class=\"colab-df-convert\" onclick=\"convertToInteractive('df-dc27cc0e-a7ce-466e-a35b-45572ee957d4')\"\n",
              "              title=\"Convert this dataframe to an interactive table.\"\n",
              "              style=\"display:none;\">\n",
              "        \n",
              "  <svg xmlns=\"http://www.w3.org/2000/svg\" height=\"24px\"viewBox=\"0 0 24 24\"\n",
              "       width=\"24px\">\n",
              "    <path d=\"M0 0h24v24H0V0z\" fill=\"none\"/>\n",
              "    <path d=\"M18.56 5.44l.94 2.06.94-2.06 2.06-.94-2.06-.94-.94-2.06-.94 2.06-2.06.94zm-11 1L8.5 8.5l.94-2.06 2.06-.94-2.06-.94L8.5 2.5l-.94 2.06-2.06.94zm10 10l.94 2.06.94-2.06 2.06-.94-2.06-.94-.94-2.06-.94 2.06-2.06.94z\"/><path d=\"M17.41 7.96l-1.37-1.37c-.4-.4-.92-.59-1.43-.59-.52 0-1.04.2-1.43.59L10.3 9.45l-7.72 7.72c-.78.78-.78 2.05 0 2.83L4 21.41c.39.39.9.59 1.41.59.51 0 1.02-.2 1.41-.59l7.78-7.78 2.81-2.81c.8-.78.8-2.07 0-2.86zM5.41 20L4 18.59l7.72-7.72 1.47 1.35L5.41 20z\"/>\n",
              "  </svg>\n",
              "      </button>\n",
              "      \n",
              "  <style>\n",
              "    .colab-df-container {\n",
              "      display:flex;\n",
              "      flex-wrap:wrap;\n",
              "      gap: 12px;\n",
              "    }\n",
              "\n",
              "    .colab-df-convert {\n",
              "      background-color: #E8F0FE;\n",
              "      border: none;\n",
              "      border-radius: 50%;\n",
              "      cursor: pointer;\n",
              "      display: none;\n",
              "      fill: #1967D2;\n",
              "      height: 32px;\n",
              "      padding: 0 0 0 0;\n",
              "      width: 32px;\n",
              "    }\n",
              "\n",
              "    .colab-df-convert:hover {\n",
              "      background-color: #E2EBFA;\n",
              "      box-shadow: 0px 1px 2px rgba(60, 64, 67, 0.3), 0px 1px 3px 1px rgba(60, 64, 67, 0.15);\n",
              "      fill: #174EA6;\n",
              "    }\n",
              "\n",
              "    [theme=dark] .colab-df-convert {\n",
              "      background-color: #3B4455;\n",
              "      fill: #D2E3FC;\n",
              "    }\n",
              "\n",
              "    [theme=dark] .colab-df-convert:hover {\n",
              "      background-color: #434B5C;\n",
              "      box-shadow: 0px 1px 3px 1px rgba(0, 0, 0, 0.15);\n",
              "      filter: drop-shadow(0px 1px 2px rgba(0, 0, 0, 0.3));\n",
              "      fill: #FFFFFF;\n",
              "    }\n",
              "  </style>\n",
              "\n",
              "      <script>\n",
              "        const buttonEl =\n",
              "          document.querySelector('#df-dc27cc0e-a7ce-466e-a35b-45572ee957d4 button.colab-df-convert');\n",
              "        buttonEl.style.display =\n",
              "          google.colab.kernel.accessAllowed ? 'block' : 'none';\n",
              "\n",
              "        async function convertToInteractive(key) {\n",
              "          const element = document.querySelector('#df-dc27cc0e-a7ce-466e-a35b-45572ee957d4');\n",
              "          const dataTable =\n",
              "            await google.colab.kernel.invokeFunction('convertToInteractive',\n",
              "                                                     [key], {});\n",
              "          if (!dataTable) return;\n",
              "\n",
              "          const docLinkHtml = 'Like what you see? Visit the ' +\n",
              "            '<a target=\"_blank\" href=https://colab.research.google.com/notebooks/data_table.ipynb>data table notebook</a>'\n",
              "            + ' to learn more about interactive tables.';\n",
              "          element.innerHTML = '';\n",
              "          dataTable['output_type'] = 'display_data';\n",
              "          await google.colab.output.renderOutput(dataTable, element);\n",
              "          const docLink = document.createElement('div');\n",
              "          docLink.innerHTML = docLinkHtml;\n",
              "          element.appendChild(docLink);\n",
              "        }\n",
              "      </script>\n",
              "    </div>\n",
              "  </div>\n",
              "  "
            ]
          },
          "metadata": {},
          "execution_count": 21
        }
      ]
    },
    {
      "cell_type": "markdown",
      "source": [
        "5. Remove Special Characters"
      ],
      "metadata": {
        "id": "Kn06x3vCrL1E"
      }
    },
    {
      "cell_type": "code",
      "source": [
        "test_data['Text'] = test_data['Text'].apply(lambda x: re.sub(r'[^\\w\\s]', '', x))\n",
        "train_data['Text'] = train_data['Text'].apply(lambda x: re.sub(r'[^\\w\\s]', '', x))"
      ],
      "metadata": {
        "id": "Gr0uIggBrLUu"
      },
      "execution_count": null,
      "outputs": []
    },
    {
      "cell_type": "code",
      "source": [
        "test_df.head()"
      ],
      "metadata": {
        "id": "MEJDZAjEuh4z",
        "colab": {
          "base_uri": "https://localhost:8080/"
        },
        "outputId": "8ab5a376-7169-44ac-d6ce-7c9d89d6af64"
      },
      "execution_count": null,
      "outputs": [
        {
          "output_type": "execute_result",
          "data": {
            "text/plain": [
              "   Index  Sentiment                                               Text\n",
              "0      0          1  @stellargirl loooooooovvvvvveee kindle2. dx co...\n",
              "1      1          1  reading kindle2... love it... lee childs good ...\n",
              "2      2          1  ok, first assesment #kindle2 ...it fucking roc...\n",
              "3      3          1  @kenburbary love kindle2. i've mine months nev...\n",
              "4      4          1    @mikefish fair enough. kindle2 think perfect :)"
            ],
            "text/html": [
              "\n",
              "  <div id=\"df-4d044a85-bca3-4a2b-b12d-fcfc26a9afc9\">\n",
              "    <div class=\"colab-df-container\">\n",
              "      <div>\n",
              "<style scoped>\n",
              "    .dataframe tbody tr th:only-of-type {\n",
              "        vertical-align: middle;\n",
              "    }\n",
              "\n",
              "    .dataframe tbody tr th {\n",
              "        vertical-align: top;\n",
              "    }\n",
              "\n",
              "    .dataframe thead th {\n",
              "        text-align: right;\n",
              "    }\n",
              "</style>\n",
              "<table border=\"1\" class=\"dataframe\">\n",
              "  <thead>\n",
              "    <tr style=\"text-align: right;\">\n",
              "      <th></th>\n",
              "      <th>Index</th>\n",
              "      <th>Sentiment</th>\n",
              "      <th>Text</th>\n",
              "    </tr>\n",
              "  </thead>\n",
              "  <tbody>\n",
              "    <tr>\n",
              "      <th>0</th>\n",
              "      <td>0</td>\n",
              "      <td>1</td>\n",
              "      <td>@stellargirl loooooooovvvvvveee kindle2. dx co...</td>\n",
              "    </tr>\n",
              "    <tr>\n",
              "      <th>1</th>\n",
              "      <td>1</td>\n",
              "      <td>1</td>\n",
              "      <td>reading kindle2... love it... lee childs good ...</td>\n",
              "    </tr>\n",
              "    <tr>\n",
              "      <th>2</th>\n",
              "      <td>2</td>\n",
              "      <td>1</td>\n",
              "      <td>ok, first assesment #kindle2 ...it fucking roc...</td>\n",
              "    </tr>\n",
              "    <tr>\n",
              "      <th>3</th>\n",
              "      <td>3</td>\n",
              "      <td>1</td>\n",
              "      <td>@kenburbary love kindle2. i've mine months nev...</td>\n",
              "    </tr>\n",
              "    <tr>\n",
              "      <th>4</th>\n",
              "      <td>4</td>\n",
              "      <td>1</td>\n",
              "      <td>@mikefish fair enough. kindle2 think perfect :)</td>\n",
              "    </tr>\n",
              "  </tbody>\n",
              "</table>\n",
              "</div>\n",
              "      <button class=\"colab-df-convert\" onclick=\"convertToInteractive('df-4d044a85-bca3-4a2b-b12d-fcfc26a9afc9')\"\n",
              "              title=\"Convert this dataframe to an interactive table.\"\n",
              "              style=\"display:none;\">\n",
              "        \n",
              "  <svg xmlns=\"http://www.w3.org/2000/svg\" height=\"24px\"viewBox=\"0 0 24 24\"\n",
              "       width=\"24px\">\n",
              "    <path d=\"M0 0h24v24H0V0z\" fill=\"none\"/>\n",
              "    <path d=\"M18.56 5.44l.94 2.06.94-2.06 2.06-.94-2.06-.94-.94-2.06-.94 2.06-2.06.94zm-11 1L8.5 8.5l.94-2.06 2.06-.94-2.06-.94L8.5 2.5l-.94 2.06-2.06.94zm10 10l.94 2.06.94-2.06 2.06-.94-2.06-.94-.94-2.06-.94 2.06-2.06.94z\"/><path d=\"M17.41 7.96l-1.37-1.37c-.4-.4-.92-.59-1.43-.59-.52 0-1.04.2-1.43.59L10.3 9.45l-7.72 7.72c-.78.78-.78 2.05 0 2.83L4 21.41c.39.39.9.59 1.41.59.51 0 1.02-.2 1.41-.59l7.78-7.78 2.81-2.81c.8-.78.8-2.07 0-2.86zM5.41 20L4 18.59l7.72-7.72 1.47 1.35L5.41 20z\"/>\n",
              "  </svg>\n",
              "      </button>\n",
              "      \n",
              "  <style>\n",
              "    .colab-df-container {\n",
              "      display:flex;\n",
              "      flex-wrap:wrap;\n",
              "      gap: 12px;\n",
              "    }\n",
              "\n",
              "    .colab-df-convert {\n",
              "      background-color: #E8F0FE;\n",
              "      border: none;\n",
              "      border-radius: 50%;\n",
              "      cursor: pointer;\n",
              "      display: none;\n",
              "      fill: #1967D2;\n",
              "      height: 32px;\n",
              "      padding: 0 0 0 0;\n",
              "      width: 32px;\n",
              "    }\n",
              "\n",
              "    .colab-df-convert:hover {\n",
              "      background-color: #E2EBFA;\n",
              "      box-shadow: 0px 1px 2px rgba(60, 64, 67, 0.3), 0px 1px 3px 1px rgba(60, 64, 67, 0.15);\n",
              "      fill: #174EA6;\n",
              "    }\n",
              "\n",
              "    [theme=dark] .colab-df-convert {\n",
              "      background-color: #3B4455;\n",
              "      fill: #D2E3FC;\n",
              "    }\n",
              "\n",
              "    [theme=dark] .colab-df-convert:hover {\n",
              "      background-color: #434B5C;\n",
              "      box-shadow: 0px 1px 3px 1px rgba(0, 0, 0, 0.15);\n",
              "      filter: drop-shadow(0px 1px 2px rgba(0, 0, 0, 0.3));\n",
              "      fill: #FFFFFF;\n",
              "    }\n",
              "  </style>\n",
              "\n",
              "      <script>\n",
              "        const buttonEl =\n",
              "          document.querySelector('#df-4d044a85-bca3-4a2b-b12d-fcfc26a9afc9 button.colab-df-convert');\n",
              "        buttonEl.style.display =\n",
              "          google.colab.kernel.accessAllowed ? 'block' : 'none';\n",
              "\n",
              "        async function convertToInteractive(key) {\n",
              "          const element = document.querySelector('#df-4d044a85-bca3-4a2b-b12d-fcfc26a9afc9');\n",
              "          const dataTable =\n",
              "            await google.colab.kernel.invokeFunction('convertToInteractive',\n",
              "                                                     [key], {});\n",
              "          if (!dataTable) return;\n",
              "\n",
              "          const docLinkHtml = 'Like what you see? Visit the ' +\n",
              "            '<a target=\"_blank\" href=https://colab.research.google.com/notebooks/data_table.ipynb>data table notebook</a>'\n",
              "            + ' to learn more about interactive tables.';\n",
              "          element.innerHTML = '';\n",
              "          dataTable['output_type'] = 'display_data';\n",
              "          await google.colab.output.renderOutput(dataTable, element);\n",
              "          const docLink = document.createElement('div');\n",
              "          docLink.innerHTML = docLinkHtml;\n",
              "          element.appendChild(docLink);\n",
              "        }\n",
              "      </script>\n",
              "    </div>\n",
              "  </div>\n",
              "  "
            ]
          },
          "metadata": {},
          "execution_count": 23
        }
      ]
    },
    {
      "cell_type": "markdown",
      "source": [
        "6. Remove Digital Numbers"
      ],
      "metadata": {
        "id": "ectlZRUPrSXN"
      }
    },
    {
      "cell_type": "code",
      "source": [
        "test_df['Text'] = test_df['Text'].str.replace('\\d+', '')\n",
        "train_df['Text'] = train_df['Text'].str.replace('\\d+', '')"
      ],
      "metadata": {
        "id": "M8n-nQvZrSEy",
        "colab": {
          "base_uri": "https://localhost:8080/"
        },
        "outputId": "96c2da6e-beca-438d-bc5d-47a4f2632be4"
      },
      "execution_count": null,
      "outputs": [
        {
          "output_type": "stream",
          "name": "stderr",
          "text": [
            "<ipython-input-24-4962e755c7c4>:1: FutureWarning: The default value of regex will change from True to False in a future version.\n",
            "  test_df['Text'] = test_df['Text'].str.replace('\\d+', '')\n",
            "<ipython-input-24-4962e755c7c4>:2: FutureWarning: The default value of regex will change from True to False in a future version.\n",
            "  train_df['Text'] = train_df['Text'].str.replace('\\d+', '')\n"
          ]
        }
      ]
    },
    {
      "cell_type": "code",
      "source": [
        "test_df.head()"
      ],
      "metadata": {
        "id": "0yAH3qwkuke4",
        "colab": {
          "base_uri": "https://localhost:8080/"
        },
        "outputId": "ff55662a-2716-464d-f1b7-dc9a47255f01"
      },
      "execution_count": null,
      "outputs": [
        {
          "output_type": "execute_result",
          "data": {
            "text/plain": [
              "   Index  Sentiment                                               Text\n",
              "0      0          1  @stellargirl loooooooovvvvvveee kindle. dx coo...\n",
              "1      1          1  reading kindle... love it... lee childs good r...\n",
              "2      2          1  ok, first assesment #kindle ...it fucking rock...\n",
              "3      3          1  @kenburbary love kindle. i've mine months neve...\n",
              "4      4          1     @mikefish fair enough. kindle think perfect :)"
            ],
            "text/html": [
              "\n",
              "  <div id=\"df-08ff9087-9d5f-440c-b9f5-810f18296c42\">\n",
              "    <div class=\"colab-df-container\">\n",
              "      <div>\n",
              "<style scoped>\n",
              "    .dataframe tbody tr th:only-of-type {\n",
              "        vertical-align: middle;\n",
              "    }\n",
              "\n",
              "    .dataframe tbody tr th {\n",
              "        vertical-align: top;\n",
              "    }\n",
              "\n",
              "    .dataframe thead th {\n",
              "        text-align: right;\n",
              "    }\n",
              "</style>\n",
              "<table border=\"1\" class=\"dataframe\">\n",
              "  <thead>\n",
              "    <tr style=\"text-align: right;\">\n",
              "      <th></th>\n",
              "      <th>Index</th>\n",
              "      <th>Sentiment</th>\n",
              "      <th>Text</th>\n",
              "    </tr>\n",
              "  </thead>\n",
              "  <tbody>\n",
              "    <tr>\n",
              "      <th>0</th>\n",
              "      <td>0</td>\n",
              "      <td>1</td>\n",
              "      <td>@stellargirl loooooooovvvvvveee kindle. dx coo...</td>\n",
              "    </tr>\n",
              "    <tr>\n",
              "      <th>1</th>\n",
              "      <td>1</td>\n",
              "      <td>1</td>\n",
              "      <td>reading kindle... love it... lee childs good r...</td>\n",
              "    </tr>\n",
              "    <tr>\n",
              "      <th>2</th>\n",
              "      <td>2</td>\n",
              "      <td>1</td>\n",
              "      <td>ok, first assesment #kindle ...it fucking rock...</td>\n",
              "    </tr>\n",
              "    <tr>\n",
              "      <th>3</th>\n",
              "      <td>3</td>\n",
              "      <td>1</td>\n",
              "      <td>@kenburbary love kindle. i've mine months neve...</td>\n",
              "    </tr>\n",
              "    <tr>\n",
              "      <th>4</th>\n",
              "      <td>4</td>\n",
              "      <td>1</td>\n",
              "      <td>@mikefish fair enough. kindle think perfect :)</td>\n",
              "    </tr>\n",
              "  </tbody>\n",
              "</table>\n",
              "</div>\n",
              "      <button class=\"colab-df-convert\" onclick=\"convertToInteractive('df-08ff9087-9d5f-440c-b9f5-810f18296c42')\"\n",
              "              title=\"Convert this dataframe to an interactive table.\"\n",
              "              style=\"display:none;\">\n",
              "        \n",
              "  <svg xmlns=\"http://www.w3.org/2000/svg\" height=\"24px\"viewBox=\"0 0 24 24\"\n",
              "       width=\"24px\">\n",
              "    <path d=\"M0 0h24v24H0V0z\" fill=\"none\"/>\n",
              "    <path d=\"M18.56 5.44l.94 2.06.94-2.06 2.06-.94-2.06-.94-.94-2.06-.94 2.06-2.06.94zm-11 1L8.5 8.5l.94-2.06 2.06-.94-2.06-.94L8.5 2.5l-.94 2.06-2.06.94zm10 10l.94 2.06.94-2.06 2.06-.94-2.06-.94-.94-2.06-.94 2.06-2.06.94z\"/><path d=\"M17.41 7.96l-1.37-1.37c-.4-.4-.92-.59-1.43-.59-.52 0-1.04.2-1.43.59L10.3 9.45l-7.72 7.72c-.78.78-.78 2.05 0 2.83L4 21.41c.39.39.9.59 1.41.59.51 0 1.02-.2 1.41-.59l7.78-7.78 2.81-2.81c.8-.78.8-2.07 0-2.86zM5.41 20L4 18.59l7.72-7.72 1.47 1.35L5.41 20z\"/>\n",
              "  </svg>\n",
              "      </button>\n",
              "      \n",
              "  <style>\n",
              "    .colab-df-container {\n",
              "      display:flex;\n",
              "      flex-wrap:wrap;\n",
              "      gap: 12px;\n",
              "    }\n",
              "\n",
              "    .colab-df-convert {\n",
              "      background-color: #E8F0FE;\n",
              "      border: none;\n",
              "      border-radius: 50%;\n",
              "      cursor: pointer;\n",
              "      display: none;\n",
              "      fill: #1967D2;\n",
              "      height: 32px;\n",
              "      padding: 0 0 0 0;\n",
              "      width: 32px;\n",
              "    }\n",
              "\n",
              "    .colab-df-convert:hover {\n",
              "      background-color: #E2EBFA;\n",
              "      box-shadow: 0px 1px 2px rgba(60, 64, 67, 0.3), 0px 1px 3px 1px rgba(60, 64, 67, 0.15);\n",
              "      fill: #174EA6;\n",
              "    }\n",
              "\n",
              "    [theme=dark] .colab-df-convert {\n",
              "      background-color: #3B4455;\n",
              "      fill: #D2E3FC;\n",
              "    }\n",
              "\n",
              "    [theme=dark] .colab-df-convert:hover {\n",
              "      background-color: #434B5C;\n",
              "      box-shadow: 0px 1px 3px 1px rgba(0, 0, 0, 0.15);\n",
              "      filter: drop-shadow(0px 1px 2px rgba(0, 0, 0, 0.3));\n",
              "      fill: #FFFFFF;\n",
              "    }\n",
              "  </style>\n",
              "\n",
              "      <script>\n",
              "        const buttonEl =\n",
              "          document.querySelector('#df-08ff9087-9d5f-440c-b9f5-810f18296c42 button.colab-df-convert');\n",
              "        buttonEl.style.display =\n",
              "          google.colab.kernel.accessAllowed ? 'block' : 'none';\n",
              "\n",
              "        async function convertToInteractive(key) {\n",
              "          const element = document.querySelector('#df-08ff9087-9d5f-440c-b9f5-810f18296c42');\n",
              "          const dataTable =\n",
              "            await google.colab.kernel.invokeFunction('convertToInteractive',\n",
              "                                                     [key], {});\n",
              "          if (!dataTable) return;\n",
              "\n",
              "          const docLinkHtml = 'Like what you see? Visit the ' +\n",
              "            '<a target=\"_blank\" href=https://colab.research.google.com/notebooks/data_table.ipynb>data table notebook</a>'\n",
              "            + ' to learn more about interactive tables.';\n",
              "          element.innerHTML = '';\n",
              "          dataTable['output_type'] = 'display_data';\n",
              "          await google.colab.output.renderOutput(dataTable, element);\n",
              "          const docLink = document.createElement('div');\n",
              "          docLink.innerHTML = docLinkHtml;\n",
              "          element.appendChild(docLink);\n",
              "        }\n",
              "      </script>\n",
              "    </div>\n",
              "  </div>\n",
              "  "
            ]
          },
          "metadata": {},
          "execution_count": 25
        }
      ]
    },
    {
      "cell_type": "markdown",
      "source": [
        "7. Stemming"
      ],
      "metadata": {
        "id": "4eFaO_dGrlwV"
      }
    },
    {
      "cell_type": "code",
      "source": [
        "# stemmer = SnowballStemmer('english')\n",
        "# stop_words = set(stopwords.words('english'))\n",
        "# test_df['Text'] = test_df['Text'].apply(lambda x: ' '.join(stemmer.stem(word) for word in word_tokenize(x) if word not in stop_words))"
      ],
      "metadata": {
        "id": "JzZ2PqZls7JU"
      },
      "execution_count": null,
      "outputs": []
    },
    {
      "cell_type": "code",
      "source": [
        "# test_df.head()"
      ],
      "metadata": {
        "id": "iUwTWyxOuliu"
      },
      "execution_count": null,
      "outputs": []
    },
    {
      "cell_type": "markdown",
      "source": [
        "8. Lemmatization"
      ],
      "metadata": {
        "id": "wQPJAslprqBt"
      }
    },
    {
      "cell_type": "code",
      "source": [
        "lemmatizer = WordNetLemmatizer()\n",
        "stop_words = set(stopwords.words('english'))\n",
        "test_df['Text'] = test_df['Text'].apply(lambda x: ' '.join(lemmatizer.lemmatize(word, pos='v') for word in word_tokenize(x) if word not in stop_words))\n",
        "train_df['Text'] = train_df['Text'].apply(lambda x: ' '.join(lemmatizer.lemmatize(word, pos='v') for word in word_tokenize(x) if word not in stop_words))"
      ],
      "metadata": {
        "id": "xpxeu2sVtTxt"
      },
      "execution_count": null,
      "outputs": []
    },
    {
      "cell_type": "code",
      "source": [
        "test_df.head()"
      ],
      "metadata": {
        "id": "orC1mCopuniY",
        "colab": {
          "base_uri": "https://localhost:8080/"
        },
        "outputId": "a7ea717e-bf35-4fa0-b2b0-5411b97ce6fa"
      },
      "execution_count": null,
      "outputs": [
        {
          "output_type": "execute_result",
          "data": {
            "text/plain": [
              "   Index  Sentiment                                               Text\n",
              "0      0          1  @ stellargirl loooooooovvvvvveee kindle . dx c...\n",
              "1      1          1    read kindle ... love ... lee childs good read .\n",
              "2      2          1  ok , first assesment # kindle ... fuck rock ! ! !\n",
              "3      3          1  @ kenburbary love kindle . 've mine months nev...\n",
              "4      4          1  @ mikefish fair enough . kindle think perfect : )"
            ],
            "text/html": [
              "\n",
              "  <div id=\"df-03ba0caf-e6db-459f-aa66-2e46a8df551f\">\n",
              "    <div class=\"colab-df-container\">\n",
              "      <div>\n",
              "<style scoped>\n",
              "    .dataframe tbody tr th:only-of-type {\n",
              "        vertical-align: middle;\n",
              "    }\n",
              "\n",
              "    .dataframe tbody tr th {\n",
              "        vertical-align: top;\n",
              "    }\n",
              "\n",
              "    .dataframe thead th {\n",
              "        text-align: right;\n",
              "    }\n",
              "</style>\n",
              "<table border=\"1\" class=\"dataframe\">\n",
              "  <thead>\n",
              "    <tr style=\"text-align: right;\">\n",
              "      <th></th>\n",
              "      <th>Index</th>\n",
              "      <th>Sentiment</th>\n",
              "      <th>Text</th>\n",
              "    </tr>\n",
              "  </thead>\n",
              "  <tbody>\n",
              "    <tr>\n",
              "      <th>0</th>\n",
              "      <td>0</td>\n",
              "      <td>1</td>\n",
              "      <td>@ stellargirl loooooooovvvvvveee kindle . dx c...</td>\n",
              "    </tr>\n",
              "    <tr>\n",
              "      <th>1</th>\n",
              "      <td>1</td>\n",
              "      <td>1</td>\n",
              "      <td>read kindle ... love ... lee childs good read .</td>\n",
              "    </tr>\n",
              "    <tr>\n",
              "      <th>2</th>\n",
              "      <td>2</td>\n",
              "      <td>1</td>\n",
              "      <td>ok , first assesment # kindle ... fuck rock ! ! !</td>\n",
              "    </tr>\n",
              "    <tr>\n",
              "      <th>3</th>\n",
              "      <td>3</td>\n",
              "      <td>1</td>\n",
              "      <td>@ kenburbary love kindle . 've mine months nev...</td>\n",
              "    </tr>\n",
              "    <tr>\n",
              "      <th>4</th>\n",
              "      <td>4</td>\n",
              "      <td>1</td>\n",
              "      <td>@ mikefish fair enough . kindle think perfect : )</td>\n",
              "    </tr>\n",
              "  </tbody>\n",
              "</table>\n",
              "</div>\n",
              "      <button class=\"colab-df-convert\" onclick=\"convertToInteractive('df-03ba0caf-e6db-459f-aa66-2e46a8df551f')\"\n",
              "              title=\"Convert this dataframe to an interactive table.\"\n",
              "              style=\"display:none;\">\n",
              "        \n",
              "  <svg xmlns=\"http://www.w3.org/2000/svg\" height=\"24px\"viewBox=\"0 0 24 24\"\n",
              "       width=\"24px\">\n",
              "    <path d=\"M0 0h24v24H0V0z\" fill=\"none\"/>\n",
              "    <path d=\"M18.56 5.44l.94 2.06.94-2.06 2.06-.94-2.06-.94-.94-2.06-.94 2.06-2.06.94zm-11 1L8.5 8.5l.94-2.06 2.06-.94-2.06-.94L8.5 2.5l-.94 2.06-2.06.94zm10 10l.94 2.06.94-2.06 2.06-.94-2.06-.94-.94-2.06-.94 2.06-2.06.94z\"/><path d=\"M17.41 7.96l-1.37-1.37c-.4-.4-.92-.59-1.43-.59-.52 0-1.04.2-1.43.59L10.3 9.45l-7.72 7.72c-.78.78-.78 2.05 0 2.83L4 21.41c.39.39.9.59 1.41.59.51 0 1.02-.2 1.41-.59l7.78-7.78 2.81-2.81c.8-.78.8-2.07 0-2.86zM5.41 20L4 18.59l7.72-7.72 1.47 1.35L5.41 20z\"/>\n",
              "  </svg>\n",
              "      </button>\n",
              "      \n",
              "  <style>\n",
              "    .colab-df-container {\n",
              "      display:flex;\n",
              "      flex-wrap:wrap;\n",
              "      gap: 12px;\n",
              "    }\n",
              "\n",
              "    .colab-df-convert {\n",
              "      background-color: #E8F0FE;\n",
              "      border: none;\n",
              "      border-radius: 50%;\n",
              "      cursor: pointer;\n",
              "      display: none;\n",
              "      fill: #1967D2;\n",
              "      height: 32px;\n",
              "      padding: 0 0 0 0;\n",
              "      width: 32px;\n",
              "    }\n",
              "\n",
              "    .colab-df-convert:hover {\n",
              "      background-color: #E2EBFA;\n",
              "      box-shadow: 0px 1px 2px rgba(60, 64, 67, 0.3), 0px 1px 3px 1px rgba(60, 64, 67, 0.15);\n",
              "      fill: #174EA6;\n",
              "    }\n",
              "\n",
              "    [theme=dark] .colab-df-convert {\n",
              "      background-color: #3B4455;\n",
              "      fill: #D2E3FC;\n",
              "    }\n",
              "\n",
              "    [theme=dark] .colab-df-convert:hover {\n",
              "      background-color: #434B5C;\n",
              "      box-shadow: 0px 1px 3px 1px rgba(0, 0, 0, 0.15);\n",
              "      filter: drop-shadow(0px 1px 2px rgba(0, 0, 0, 0.3));\n",
              "      fill: #FFFFFF;\n",
              "    }\n",
              "  </style>\n",
              "\n",
              "      <script>\n",
              "        const buttonEl =\n",
              "          document.querySelector('#df-03ba0caf-e6db-459f-aa66-2e46a8df551f button.colab-df-convert');\n",
              "        buttonEl.style.display =\n",
              "          google.colab.kernel.accessAllowed ? 'block' : 'none';\n",
              "\n",
              "        async function convertToInteractive(key) {\n",
              "          const element = document.querySelector('#df-03ba0caf-e6db-459f-aa66-2e46a8df551f');\n",
              "          const dataTable =\n",
              "            await google.colab.kernel.invokeFunction('convertToInteractive',\n",
              "                                                     [key], {});\n",
              "          if (!dataTable) return;\n",
              "\n",
              "          const docLinkHtml = 'Like what you see? Visit the ' +\n",
              "            '<a target=\"_blank\" href=https://colab.research.google.com/notebooks/data_table.ipynb>data table notebook</a>'\n",
              "            + ' to learn more about interactive tables.';\n",
              "          element.innerHTML = '';\n",
              "          dataTable['output_type'] = 'display_data';\n",
              "          await google.colab.output.renderOutput(dataTable, element);\n",
              "          const docLink = document.createElement('div');\n",
              "          docLink.innerHTML = docLinkHtml;\n",
              "          element.appendChild(docLink);\n",
              "        }\n",
              "      </script>\n",
              "    </div>\n",
              "  </div>\n",
              "  "
            ]
          },
          "metadata": {},
          "execution_count": 29
        }
      ]
    },
    {
      "cell_type": "markdown",
      "source": [
        "Text Preprocessing Results"
      ],
      "metadata": {
        "id": "vYDOLc9Juq4U"
      }
    },
    {
      "cell_type": "code",
      "source": [
        "# Print the first five rows of the preprocessed training data\n",
        "print(train_data.head())\n",
        "\n",
        "# Print the first five rows of the preprocessed testing data\n",
        "print(test_data.head())"
      ],
      "metadata": {
        "id": "cFHl9inO60EH",
        "colab": {
          "base_uri": "https://localhost:8080/"
        },
        "outputId": "8b9b2371-a27e-493d-b065-b2721797b634"
      },
      "execution_count": null,
      "outputs": [
        {
          "output_type": "stream",
          "name": "stdout",
          "text": [
            "   Index  Sentiment                                               Text\n",
            "0      0          0  switchfoot httptwitpiccom2y1zl  Awww thats a b...\n",
            "1      1          0  is upset that he cant update his Facebook by t...\n",
            "2      2          0  Kenichan I dived many times for the ball Manag...\n",
            "3      3          0    my whole body feels itchy and like its on fire \n",
            "4      4          0  nationwideclass no its not behaving at all im ...\n",
            "   Index  Sentiment                                               Text\n",
            "0      0          1  stellargirl I loooooooovvvvvveee my Kindle2 No...\n",
            "1      1          1  Reading my kindle2  Love it Lee childs is good...\n",
            "2      2          1  Ok first assesment of the kindle2 it fucking r...\n",
            "3      3          1  kenburbary Youll love your Kindle2 Ive had min...\n",
            "4      4          1  mikefish  Fair enough But i have the Kindle2 a...\n"
          ]
        }
      ]
    },
    {
      "cell_type": "code",
      "source": [
        "test_df.to_csv('/content/coding_assignment_2/step2_test.csv', index=False, mode='w')\n",
        "train_df.to_csv('/content/coding_assignment_2/step2_train.csv', index=False, mode='w')"
      ],
      "metadata": {
        "id": "ip_k5HAYvqC_"
      },
      "execution_count": null,
      "outputs": []
    },
    {
      "cell_type": "code",
      "source": [
        "test_df.to_csv('/content/gdrive/MyDrive/coding_assignment_results/step2_test.csv', index=False, mode='w')\n",
        "train_df.to_csv('/content/gdrive/MyDrive/coding_assignment_results/step2_train.csv', index=False, mode='w')"
      ],
      "metadata": {
        "id": "jYjCJKnL5qKZ"
      },
      "execution_count": null,
      "outputs": []
    },
    {
      "cell_type": "markdown",
      "source": [
        "## 3) Linguistic Feature Extraction"
      ],
      "metadata": {
        "id": "J6KUwG-r0CYd"
      }
    },
    {
      "cell_type": "code",
      "source": [
        "TEST = '/content/gdrive/MyDrive/coding_assignment_results/step2_test.csv'\n",
        "TRAIN = '/content/gdrive/MyDrive/coding_assignment_results/step2_train.csv'"
      ],
      "metadata": {
        "id": "hroxqIxga0RZ"
      },
      "execution_count": null,
      "outputs": []
    },
    {
      "cell_type": "markdown",
      "source": [
        "Bag of Words"
      ],
      "metadata": {
        "id": "_2pRjGTpa0RZ"
      }
    },
    {
      "cell_type": "code",
      "source": [
        "import pandas as pd\n",
        "from sklearn.feature_extraction.text import CountVectorizer\n",
        "import numpy as np\n",
        "\n",
        "# Load data\n",
        "train_df = pd.read_csv(TRAIN)\n",
        "test_df = pd.read_csv(TEST)\n",
        "\n",
        "# Remove NaNs from text data\n",
        "train_df['Text'].replace(np.nan, '', regex=True, inplace=True)\n",
        "test_df['Text'].replace(np.nan, '', regex=True, inplace=True)\n",
        "\n",
        "# Extract linguistic features from text data using Bag of Words approach\n",
        "vectorizer = CountVectorizer()\n",
        "X_train_BW = vectorizer.fit_transform(train_df['Text'])\n",
        "X_test_BW = vectorizer.transform(test_df['Text'])\n",
        "\n",
        "# Get labels\n",
        "y_train_BW = train_df['Sentiment']\n",
        "y_test_BW = test_df['Sentiment']"
      ],
      "metadata": {
        "id": "ChR8Vc2ba0RZ"
      },
      "execution_count": null,
      "outputs": []
    },
    {
      "cell_type": "markdown",
      "source": [
        "TF*IDF"
      ],
      "metadata": {
        "id": "nI2Gb717a5sl"
      }
    },
    {
      "cell_type": "code",
      "source": [
        "import pandas as pd\n",
        "from sklearn.feature_extraction.text import TfidfVectorizer\n",
        "\n",
        "# Load data\n",
        "train_df = pd.read_csv(TRAIN)\n",
        "test_df = pd.read_csv(TEST)\n",
        "\n",
        "# Remove NaNs from text data\n",
        "train_df['Text'].replace(np.nan, '', regex=True, inplace=True)\n",
        "test_df['Text'].replace(np.nan, '', regex=True, inplace=True)\n",
        "\n",
        "# Extract linguistic features from text data using TF-IDF approach\n",
        "vectorizer = TfidfVectorizer()\n",
        "X_train_TF = vectorizer.fit_transform(train_df['Text'])\n",
        "X_test_TF = vectorizer.transform(test_df['Text'])\n",
        "\n",
        "# Get labels\n",
        "y_train_TF = train_df['Sentiment']\n",
        "y_test_TF = test_df['Sentiment']"
      ],
      "metadata": {
        "id": "2dTg9jqka5sl"
      },
      "execution_count": null,
      "outputs": []
    },
    {
      "cell_type": "markdown",
      "source": [
        "## 4) Build Sentiment Classification Model + Evaluation"
      ],
      "metadata": {
        "id": "fywxfsYca84b"
      }
    },
    {
      "cell_type": "markdown",
      "source": [
        "### Bag of Words with Logistic Regression vs Naive Bayes"
      ],
      "metadata": {
        "id": "Phejx4YFcnij"
      }
    },
    {
      "cell_type": "code",
      "source": [
        "X_train = X_train_BW\n",
        "X_test = X_test_BW\n",
        "y_train = y_train_BW\n",
        "y_test = y_test_BW"
      ],
      "metadata": {
        "id": "-1vsF1b-bCuT"
      },
      "execution_count": null,
      "outputs": []
    },
    {
      "cell_type": "code",
      "source": [
        "from sklearn.metrics import accuracy_score, confusion_matrix, classification_report, roc_curve, auc\n",
        "from sklearn.naive_bayes import MultinomialNB\n",
        "from sklearn.linear_model import LogisticRegression\n",
        "from sklearn.ensemble import RandomForestClassifier\n",
        "from sklearn.metrics import accuracy_score, confusion_matrix, classification_report, roc_curve, auc, f1_score, precision_score\n",
        "from sklearn.svm import SVC\n",
        "import matplotlib.pyplot as plt\n",
        "\n",
        "classifiers = {\n",
        "    'Logistic Regression': LogisticRegression(max_iter=1000),\n",
        "    'Naive Bayes': MultinomialNB(),\n",
        "}\n",
        "\n",
        "bag_of_words_results = {}\n",
        "\n",
        "for name, clf in classifiers.items():\n",
        "    clf.fit(X_train, y_train)\n",
        "    y_pred_train = clf.predict(X_train)\n",
        "    y_pred_test = clf.predict(X_test)\n",
        "    acc_train = accuracy_score(y_train, y_pred_train)\n",
        "    acc_test = accuracy_score(y_test, y_pred_test)\n",
        "    f1_train = f1_score(y_train, y_pred_train)\n",
        "    f1_test = f1_score(y_test, y_pred_test)\n",
        "    precision_train = precision_score(y_train, y_pred_train)\n",
        "    precision_test = precision_score(y_test, y_pred_test)\n",
        "    train_loss = clf.score(X_train, y_train)\n",
        "    test_loss = clf.score(X_test, y_test)\n",
        "    print(f\"{name}\")\n",
        "    print(f\"Training Accuracy: {acc_train}\")\n",
        "    print(f\"Testing Accuracy: {acc_test}\")\n",
        "    print(f\"Training F1-score: {f1_train}\")\n",
        "    print(f\"Testing F1-score: {f1_test}\")\n",
        "    print(f\"Training Precision: {precision_train}\")\n",
        "    print(f\"Testing Precision: {precision_test}\")\n",
        "    print(f\"Training Loss: {train_loss}\")\n",
        "    print(f\"Testing Loss: {test_loss}\")\n",
        "    print(confusion_matrix(y_test, y_pred_test))\n",
        "    print(classification_report(y_test, y_pred_test))\n",
        "\n",
        "    bag_of_words_results[name] = {\n",
        "        'train_accuracy': acc_train,\n",
        "        'test_accuracy': acc_test,\n",
        "        'train_f1_score': f1_train,\n",
        "        'test_f1_score': f1_test,\n",
        "        'train_precision': precision_train,\n",
        "        'test_precision': precision_test,\n",
        "        'train_loss': train_loss,\n",
        "        'test_loss': test_loss,\n",
        "        'confusion_matrix': confusion_matrix(y_test, y_pred_test),\n",
        "        'classification_report': classification_report(y_test, y_pred_test)\n",
        "    }"
      ],
      "metadata": {
        "colab": {
          "base_uri": "https://localhost:8080/"
        },
        "id": "3obACR97bGnF",
        "outputId": "19fcf8d1-6beb-4bf7-9d11-1722393134b9"
      },
      "execution_count": null,
      "outputs": [
        {
          "output_type": "stream",
          "name": "stdout",
          "text": [
            "Logistic Regression\n",
            "Training Accuracy: 0.8791512290489474\n",
            "Testing Accuracy: 0.7437325905292479\n",
            "Training F1-score: 0.7026206294485813\n",
            "Testing F1-score: 0.6870748299319729\n",
            "Training Precision: 0.8431712702203398\n",
            "Testing Precision: 0.9017857142857143\n",
            "Training Loss: 0.8791512290489474\n",
            "Testing Loss: 0.7437325905292479\n",
            "[[166  11]\n",
            " [ 81 101]]\n",
            "              precision    recall  f1-score   support\n",
            "\n",
            "           0       0.67      0.94      0.78       177\n",
            "           1       0.90      0.55      0.69       182\n",
            "\n",
            "    accuracy                           0.74       359\n",
            "   macro avg       0.79      0.75      0.74       359\n",
            "weighted avg       0.79      0.74      0.73       359\n",
            "\n",
            "Naive Bayes\n",
            "Training Accuracy: 0.8663948692272847\n",
            "Testing Accuracy: 0.7019498607242339\n",
            "Training F1-score: 0.6625867346815896\n",
            "Testing F1-score: 0.6219081272084807\n",
            "Training Precision: 0.8255155196005474\n",
            "Testing Precision: 0.8712871287128713\n",
            "Training Loss: 0.8663948692272847\n",
            "Testing Loss: 0.7019498607242339\n",
            "[[164  13]\n",
            " [ 94  88]]\n",
            "              precision    recall  f1-score   support\n",
            "\n",
            "           0       0.64      0.93      0.75       177\n",
            "           1       0.87      0.48      0.62       182\n",
            "\n",
            "    accuracy                           0.70       359\n",
            "   macro avg       0.75      0.71      0.69       359\n",
            "weighted avg       0.76      0.70      0.69       359\n",
            "\n"
          ]
        }
      ]
    },
    {
      "cell_type": "code",
      "source": [
        "import numpy as np\n",
        "\n",
        "for name, results in bag_of_words_results.items():\n",
        "    cm = results['confusion_matrix']\n",
        "    classes = np.unique(y_test)\n",
        "    fig, ax = plt.subplots()\n",
        "    im = ax.imshow(cm, interpolation='nearest', cmap=plt.cm.Blues)\n",
        "    ax.figure.colorbar(im, ax=ax)\n",
        "    ax.set(xticks=np.arange(cm.shape[1]),\n",
        "           yticks=np.arange(cm.shape[0]),\n",
        "           xticklabels=classes, yticklabels=classes,\n",
        "           ylabel='True label',\n",
        "           xlabel='Predicted label')\n",
        "    plt.title(f'{name} Confusion Matrix')\n",
        "    plt.setp(ax.get_xticklabels(), rotation=45, ha=\"right\",\n",
        "             rotation_mode=\"anchor\")\n",
        "    fmt = 'd'\n",
        "    thresh = cm.max() / 2.\n",
        "    for i in range(cm.shape[0]):\n",
        "        for j in range(cm.shape[1]):\n",
        "            ax.text(j, i, format(cm[i, j], fmt),\n",
        "                    ha=\"center\", va=\"center\",\n",
        "                    color=\"white\" if cm[i, j] > thresh else \"black\")\n",
        "    fig.tight_layout()\n",
        "    plt.show()"
      ],
      "metadata": {
        "colab": {
          "base_uri": "https://localhost:8080/",
          "height": 577
        },
        "id": "mcdVBOUN9tJ_",
        "outputId": "f4100f3e-656c-422b-bf8c-ba1840e9cd27"
      },
      "execution_count": null,
      "outputs": [
        {
          "output_type": "display_data",
          "data": {
            "text/plain": [
              "<Figure size 432x288 with 2 Axes>"
            ],
            "image/png": "[encoded data removed]"
          },
          "metadata": {
            "needs_background": "light"
          }
        },
        {
          "output_type": "display_data",
          "data": {
            "text/plain": [
              "<Figure size 432x288 with 2 Axes>"
            ],
            "image/png": "[encoded data removed]"
          },
          "metadata": {
            "needs_background": "light"
          }
        }
      ]
    },
    {
      "cell_type": "code",
      "source": [
        "import matplotlib.pyplot as plt\n",
        "import numpy as np\n",
        "\n",
        "# get data from bag_of_words_results dictionary\n",
        "train_f1_LR = bag_of_words_results['Logistic Regression']['train_f1_score']\n",
        "test_f1_LR = bag_of_words_results['Logistic Regression']['test_f1_score']\n",
        "train_f1_NB = bag_of_words_results['Naive Bayes']['train_f1_score']\n",
        "test_f1_NB = bag_of_words_results['Naive Bayes']['test_f1_score']\n",
        "\n",
        "train_acc_LR = bag_of_words_results['Logistic Regression']['train_accuracy']\n",
        "test_acc_LR = bag_of_words_results['Logistic Regression']['test_accuracy']\n",
        "train_acc_NB = bag_of_words_results['Naive Bayes']['train_accuracy']\n",
        "test_acc_NB = bag_of_words_results['Naive Bayes']['test_accuracy']\n",
        "\n",
        "train_loss_LR = bag_of_words_results['Logistic Regression']['train_loss']\n",
        "test_loss_LR = bag_of_words_results['Logistic Regression']['test_loss']\n",
        "train_loss_NB = bag_of_words_results['Naive Bayes']['train_loss']\n",
        "test_loss_NB = bag_of_words_results['Naive Bayes']['test_loss']\n",
        "\n",
        "train_pre_LR = bag_of_words_results['Logistic Regression']['train_precision']\n",
        "test_pre_LR = bag_of_words_results['Logistic Regression']['test_precision']\n",
        "train_pre_NB = bag_of_words_results['Naive Bayes']['train_precision']\n",
        "test_pre_NB = bag_of_words_results['Naive Bayes']['test_precision']\n",
        "\n",
        "# create bar plots for Loss\n",
        "labels = ['Logistic Regression', 'Naive Bayes']\n",
        "train_losses = [train_loss_LR, train_loss_NB]\n",
        "test_losses = [test_loss_LR, test_loss_NB]\n",
        "x = np.arange(len(labels))\n",
        "width = 0.35\n",
        "\n",
        "fig, ax = plt.subplots()\n",
        "rects1 = ax.bar(x - width/2, train_losses, width, label='Training')\n",
        "rects2 = ax.bar(x + width/2, test_losses, width, label='Testing')\n",
        "\n",
        "ax.set_ylabel('Loss')\n",
        "ax.set_title('Comparison of Training and Testing Loss')\n",
        "ax.set_xticks(x)\n",
        "ax.set_xticklabels(labels)\n",
        "ax.legend(loc='lower right')\n",
        "\n",
        "# add numerical labels to bars\n",
        "for rect in rects1:\n",
        "    height = rect.get_height()\n",
        "    ax.annotate(f'{height:.2f}', xy=(rect.get_x() + rect.get_width() / 2, height),\n",
        "                xytext=(0, 3),  # 3 points vertical offset\n",
        "                textcoords=\"offset points\",\n",
        "                ha='center', va='bottom')\n",
        "for rect in rects2:\n",
        "    height = rect.get_height()\n",
        "    ax.annotate(f'{height:.2f}', xy=(rect.get_x() + rect.get_width() / 2, height),\n",
        "                xytext=(0, 3),  # 3 points vertical offset\n",
        "                textcoords=\"offset points\",\n",
        "                ha='center', va='bottom')\n",
        "\n",
        "plt.show()\n",
        "\n",
        "\n",
        "# create bar plots for F1-scores\n",
        "labels = ['Logistic Regression', 'Naive Bayes']\n",
        "train_f1 = [train_f1_LR, train_f1_NB]\n",
        "test_f1 = [test_f1_LR, test_f1_NB]\n",
        "x = np.arange(len(labels))\n",
        "width = 0.35\n",
        "\n",
        "fig, ax = plt.subplots()\n",
        "rects1 = ax.bar(x - width/2, train_f1, width, label='Training')\n",
        "rects2 = ax.bar(x + width/2, test_f1, width, label='Testing')\n",
        "\n",
        "ax.set_ylabel('F1-score')\n",
        "ax.set_title('Comparison of Training and Testing F1-score')\n",
        "ax.set_xticks(x)\n",
        "ax.set_xticklabels(labels)\n",
        "ax.legend(loc='lower right')\n",
        "\n",
        "# add numerical labels to bars\n",
        "for rect in rects1:\n",
        "    height = rect.get_height()\n",
        "    ax.annotate(f'{height:.2f}', xy=(rect.get_x() + rect.get_width() / 2, height),\n",
        "                xytext=(0, 3),  # 3 points vertical offset\n",
        "                textcoords=\"offset points\",\n",
        "                ha='center', va='bottom')\n",
        "for rect in rects2:\n",
        "    height = rect.get_height()\n",
        "    ax.annotate(f'{height:.2f}', xy=(rect.get_x() + rect.get_width() / 2, height),\n",
        "                xytext=(0, 3),  # 3 points vertical offset\n",
        "                textcoords=\"offset points\",\n",
        "                ha='center', va='bottom')\n",
        "\n",
        "plt.show()\n",
        "\n",
        "# create bar plots for Accuracy\n",
        "train_acc = [train_acc_LR, train_acc_NB]\n",
        "test_acc = [test_acc_LR, test_acc_NB]\n",
        "\n",
        "fig, ax = plt.subplots()\n",
        "rects1 = ax.bar(x - width/2, train_acc, width, label='Training')\n",
        "rects2 = ax.bar(x + width/2, test_acc, width, label='Testing')\n",
        "\n",
        "ax.set_ylabel('Accuracy')\n",
        "ax.set_title('Comparison of Training and Testing Accuracy')\n",
        "ax.set_xticks(x)\n",
        "ax.set_xticklabels(labels)\n",
        "ax.legend(loc='lower right')\n",
        "\n",
        "# add numerical labels to bars\n",
        "for rect in rects1:\n",
        "    height = rect.get_height()\n",
        "    ax.annotate(f'{height:.2f}', xy=(rect.get_x() + rect.get_width() / 2, height),\n",
        "                xytext=(0, 3),  # 3 points vertical offset\n",
        "                textcoords=\"offset points\",\n",
        "                ha='center', va='bottom')\n",
        "for rect in rects2:\n",
        "    height = rect.get_height()\n",
        "    ax.annotate(f'{height:.2f}', xy=(rect.get_x() + rect.get_width() / 2, height),\n",
        "                xytext=(0, 3),  # 3 points vertical offset\n",
        "                textcoords=\"offset points\",\n",
        "                ha='center', va='bottom')\n",
        "\n",
        "plt.show()\n",
        "\n",
        "# create bar plots for Accuracy\n",
        "train_pre = [train_pre_LR, train_pre_NB]\n",
        "test_pre = [test_pre_LR, test_pre_NB]\n",
        "\n",
        "fig, ax = plt.subplots()\n",
        "rects1 = ax.bar(x - width/2, train_pre, width, label='Training')\n",
        "rects2 = ax.bar(x + width/2, test_pre, width, label='Testing')\n",
        "\n",
        "ax.set_ylabel('Precision')\n",
        "ax.set_title('Comparison of Training and Testing Precision')\n",
        "ax.set_xticks(x)\n",
        "ax.set_xticklabels(labels)\n",
        "ax.legend(loc='lower right')\n",
        "\n",
        "# add numerical labels to bars\n",
        "for rect in rects1:\n",
        "    height = rect.get_height()\n",
        "    ax.annotate(f'{height:.2f}', xy=(rect.get_x() + rect.get_width() / 2, height),\n",
        "                xytext=(0, 3),  # 3 points vertical offset\n",
        "                textcoords=\"offset points\",\n",
        "                ha='center', va='bottom')\n",
        "for rect in rects2:\n",
        "    height = rect.get_height()\n",
        "    ax.annotate(f'{height:.2f}', xy=(rect.get_x() + rect.get_width() / 2, height),\n",
        "                xytext=(0, 3),  # 3 points vertical offset\n",
        "                textcoords=\"offset points\",\n",
        "                ha='center', va='bottom')\n",
        "\n",
        "plt.show()"
      ],
      "metadata": {
        "colab": {
          "base_uri": "https://localhost:8080/",
          "height": 1000
        },
        "id": "G-KfmuIl_pkL",
        "outputId": "92652e54-caee-456d-c7e9-ac822d518c05"
      },
      "execution_count": null,
      "outputs": [
        {
          "output_type": "display_data",
          "data": {
            "text/plain": [
              "<Figure size 432x288 with 1 Axes>"
            ],
            "image/png": "[encoded data removed]"
          },
          "metadata": {
            "needs_background": "light"
          }
        },
        {
          "output_type": "display_data",
          "data": {
            "text/plain": [
              "<Figure size 432x288 with 1 Axes>"
            ],
            "image/png": "[encoded data removed]"
          },
          "metadata": {
            "needs_background": "light"
          }
        },
        {
          "output_type": "display_data",
          "data": {
            "text/plain": [
              "<Figure size 432x288 with 1 Axes>"
            ],
            "image/png": "[encoded data removed]"
          },
          "metadata": {
            "needs_background": "light"
          }
        },
        {
          "output_type": "display_data",
          "data": {
            "text/plain": [
              "<Figure size 432x288 with 1 Axes>"
            ],
            "image/png": "[encoded data removed]"
          },
          "metadata": {
            "needs_background": "light"
          }
        }
      ]
    },
    {
      "cell_type": "markdown",
      "source": [
        "### TF*IDF with Logistic Regression vs Naive Bayes"
      ],
      "metadata": {
        "id": "9HPH7XURc4ff"
      }
    },
    {
      "cell_type": "code",
      "source": [
        "X_train = X_train_TF\n",
        "X_test = X_test_TF\n",
        "y_train = y_train_TF\n",
        "y_test = y_test_TF"
      ],
      "metadata": {
        "id": "5xcydgO2bHOR"
      },
      "execution_count": null,
      "outputs": []
    },
    {
      "cell_type": "code",
      "source": [
        "from sklearn.metrics import accuracy_score, confusion_matrix, classification_report, roc_curve, auc, f1_score, precision_score\n",
        "from sklearn.naive_bayes import MultinomialNB\n",
        "from sklearn.linear_model import LogisticRegression\n",
        "from sklearn.ensemble import RandomForestClassifier\n",
        "from sklearn.svm import SVC\n",
        "import matplotlib.pyplot as plt\n",
        "\n",
        "classifiers = {\n",
        "    'Logistic Regression': LogisticRegression(max_iter=1000),\n",
        "    'Naive Bayes': MultinomialNB(),\n",
        "}\n",
        "\n",
        "tf_results = {}\n",
        "\n",
        "for name, clf in classifiers.items():\n",
        "    clf.fit(X_train, y_train)\n",
        "    y_pred_train = clf.predict(X_train)\n",
        "    y_pred_test = clf.predict(X_test)\n",
        "    acc_train = accuracy_score(y_train, y_pred_train)\n",
        "    acc_test = accuracy_score(y_test, y_pred_test)\n",
        "    f1_train = f1_score(y_train, y_pred_train)\n",
        "    f1_test = f1_score(y_test, y_pred_test)\n",
        "    precision_train = precision_score(y_train, y_pred_train)\n",
        "    precision_test = precision_score(y_test, y_pred_test)\n",
        "    train_loss = clf.score(X_train, y_train)\n",
        "    test_loss = clf.score(X_test, y_test)\n",
        "    print(f\"{name}\")\n",
        "    print(f\"Training Accuracy: {acc_train}\")\n",
        "    print(f\"Testing Accuracy: {acc_test}\")\n",
        "    print(f\"Training F1-score: {f1_train}\")\n",
        "    print(f\"Testing F1-score: {f1_test}\")\n",
        "    print(f\"Training Precision: {precision_train}\")\n",
        "    print(f\"Testing Precision: {precision_test}\")\n",
        "    print(f\"Training Loss: {train_loss}\")\n",
        "    print(f\"Testing Loss: {test_loss}\")\n",
        "    print(confusion_matrix(y_test, y_pred_test))\n",
        "    print(classification_report(y_test, y_pred_test))\n",
        "\n",
        "    tf_results[name] = {\n",
        "        'train_accuracy': acc_train,\n",
        "        'test_accuracy': acc_test,\n",
        "        'train_f1_score': f1_train,\n",
        "        'test_f1_score': f1_test,\n",
        "        'train_precision': precision_train,\n",
        "        'test_precision': precision_test,\n",
        "        'train_loss': train_loss,\n",
        "        'test_loss': test_loss,\n",
        "        'confusion_matrix': confusion_matrix(y_test, y_pred_test),\n",
        "        'classification_report': classification_report(y_test, y_pred_test)\n",
        "    }\n"
      ],
      "metadata": {
        "colab": {
          "base_uri": "https://localhost:8080/"
        },
        "id": "wPXReh5kbc8G",
        "outputId": "3c5b52c1-892b-45d2-d310-c67f17b144c1"
      },
      "execution_count": null,
      "outputs": [
        {
          "output_type": "stream",
          "name": "stdout",
          "text": [
            "Logistic Regression\n",
            "Training Accuracy: 0.8608511551391174\n",
            "Testing Accuracy: 0.7576601671309192\n",
            "Training F1-score: 0.650117500359695\n",
            "Testing F1-score: 0.7030716723549488\n",
            "Training Precision: 0.8047493247053934\n",
            "Testing Precision: 0.9279279279279279\n",
            "Training Loss: 0.8608511551391174\n",
            "Testing Loss: 0.7576601671309192\n",
            "[[169   8]\n",
            " [ 79 103]]\n",
            "              precision    recall  f1-score   support\n",
            "\n",
            "           0       0.68      0.95      0.80       177\n",
            "           1       0.93      0.57      0.70       182\n",
            "\n",
            "    accuracy                           0.76       359\n",
            "   macro avg       0.80      0.76      0.75       359\n",
            "weighted avg       0.81      0.76      0.75       359\n",
            "\n",
            "Naive Bayes\n",
            "Training Accuracy: 0.8116253010037432\n",
            "Testing Accuracy: 0.5153203342618384\n",
            "Training F1-score: 0.3460151705277238\n",
            "Testing F1-score: 0.10309278350515463\n",
            "Training Precision: 0.9774776460024692\n",
            "Testing Precision: 0.8333333333333334\n",
            "Training Loss: 0.8116253010037432\n",
            "Testing Loss: 0.5153203342618384\n",
            "[[175   2]\n",
            " [172  10]]\n",
            "              precision    recall  f1-score   support\n",
            "\n",
            "           0       0.50      0.99      0.67       177\n",
            "           1       0.83      0.05      0.10       182\n",
            "\n",
            "    accuracy                           0.52       359\n",
            "   macro avg       0.67      0.52      0.39       359\n",
            "weighted avg       0.67      0.52      0.38       359\n",
            "\n"
          ]
        }
      ]
    },
    {
      "cell_type": "code",
      "source": [
        "import numpy as np\n",
        "\n",
        "for name, results in tf_results.items():\n",
        "    cm = results['confusion_matrix']\n",
        "    classes = np.unique(y_test)\n",
        "    fig, ax = plt.subplots()\n",
        "    im = ax.imshow(cm, interpolation='nearest', cmap=plt.cm.Blues)\n",
        "    ax.figure.colorbar(im, ax=ax)\n",
        "    ax.set(xticks=np.arange(cm.shape[1]),\n",
        "           yticks=np.arange(cm.shape[0]),\n",
        "           xticklabels=classes, yticklabels=classes,\n",
        "           ylabel='True label',\n",
        "           xlabel='Predicted label')\n",
        "    plt.title(f'{name} Confusion Matrix')\n",
        "    plt.setp(ax.get_xticklabels(), rotation=45, ha=\"right\",\n",
        "             rotation_mode=\"anchor\")\n",
        "    fmt = 'd'\n",
        "    thresh = cm.max() / 2.\n",
        "    for i in range(cm.shape[0]):\n",
        "        for j in range(cm.shape[1]):\n",
        "            ax.text(j, i, format(cm[i, j], fmt),\n",
        "                    ha=\"center\", va=\"center\",\n",
        "                    color=\"white\" if cm[i, j] > thresh else \"black\")\n",
        "    fig.tight_layout()\n",
        "    plt.show()\n"
      ],
      "metadata": {
        "colab": {
          "base_uri": "https://localhost:8080/",
          "height": 577
        },
        "id": "OQMeBGMZ3Q_3",
        "outputId": "621ad55e-90ed-4c1d-e652-c09c68c73534"
      },
      "execution_count": null,
      "outputs": [
        {
          "output_type": "display_data",
          "data": {
            "text/plain": [
              "<Figure size 432x288 with 2 Axes>"
            ],
            "image/png": "[encoded data removed]"
          },
          "metadata": {
            "needs_background": "light"
          }
        },
        {
          "output_type": "display_data",
          "data": {
            "text/plain": [
              "<Figure size 432x288 with 2 Axes>"
            ],
            "image/png": "[encoded data removed]"
          },
          "metadata": {
            "needs_background": "light"
          }
        }
      ]
    },
    {
      "cell_type": "code",
      "source": [
        "import matplotlib.pyplot as plt\n",
        "import numpy as np\n",
        "\n",
        "# get data from tf_results dictionary\n",
        "train_f1_LR = tf_results['Logistic Regression']['train_f1_score']\n",
        "test_f1_LR = tf_results['Logistic Regression']['test_f1_score']\n",
        "train_f1_NB = tf_results['Naive Bayes']['train_f1_score']\n",
        "test_f1_NB = tf_results['Naive Bayes']['test_f1_score']\n",
        "\n",
        "train_acc_LR = tf_results['Logistic Regression']['train_accuracy']\n",
        "test_acc_LR = tf_results['Logistic Regression']['test_accuracy']\n",
        "train_acc_NB = tf_results['Naive Bayes']['train_accuracy']\n",
        "test_acc_NB = tf_results['Naive Bayes']['test_accuracy']\n",
        "\n",
        "train_loss_LR = tf_results['Logistic Regression']['train_loss']\n",
        "test_loss_LR = tf_results['Logistic Regression']['test_loss']\n",
        "train_loss_NB = tf_results['Naive Bayes']['train_loss']\n",
        "test_loss_NB = tf_results['Naive Bayes']['test_loss']\n",
        "\n",
        "train_pre_LR = tf_results['Logistic Regression']['train_precision']\n",
        "test_pre_LR = tf_results['Logistic Regression']['test_precision']\n",
        "train_pre_NB = tf_results['Naive Bayes']['train_precision']\n",
        "test_pre_NB = tf_results['Naive Bayes']['test_precision']\n",
        "\n",
        "# create bar plots for Loss\n",
        "labels = ['Logistic Regression', 'Naive Bayes']\n",
        "train_losses = [train_loss_LR, train_loss_NB]\n",
        "test_losses = [test_loss_LR, test_loss_NB]\n",
        "x = np.arange(len(labels))\n",
        "width = 0.35\n",
        "\n",
        "fig, ax = plt.subplots()\n",
        "rects1 = ax.bar(x - width/2, train_losses, width, label='Training')\n",
        "rects2 = ax.bar(x + width/2, test_losses, width, label='Testing')\n",
        "\n",
        "ax.set_ylabel('Loss')\n",
        "ax.set_title('Comparison of Training and Testing Loss')\n",
        "ax.set_xticks(x)\n",
        "ax.set_xticklabels(labels)\n",
        "ax.legend(loc='lower right')\n",
        "\n",
        "# add numerical labels to bars\n",
        "for rect in rects1:\n",
        "    height = rect.get_height()\n",
        "    ax.annotate(f'{height:.2f}', xy=(rect.get_x() + rect.get_width() / 2, height),\n",
        "                xytext=(0, 3),  # 3 points vertical offset\n",
        "                textcoords=\"offset points\",\n",
        "                ha='center', va='bottom')\n",
        "for rect in rects2:\n",
        "    height = rect.get_height()\n",
        "    ax.annotate(f'{height:.2f}', xy=(rect.get_x() + rect.get_width() / 2, height),\n",
        "                xytext=(0, 3),  # 3 points vertical offset\n",
        "                textcoords=\"offset points\",\n",
        "                ha='center', va='bottom')\n",
        "\n",
        "plt.show()\n",
        "\n",
        "\n",
        "# create bar plots for F1-scores\n",
        "labels = ['Logistic Regression', 'Naive Bayes']\n",
        "train_f1 = [train_f1_LR, train_f1_NB]\n",
        "test_f1 = [test_f1_LR, test_f1_NB]\n",
        "x = np.arange(len(labels))\n",
        "width = 0.35\n",
        "\n",
        "fig, ax = plt.subplots()\n",
        "rects1 = ax.bar(x - width/2, train_f1, width, label='Training')\n",
        "rects2 = ax.bar(x + width/2, test_f1, width, label='Testing')\n",
        "\n",
        "ax.set_ylabel('F1-score')\n",
        "ax.set_title('Comparison of Training and Testing F1-score')\n",
        "ax.set_xticks(x)\n",
        "ax.set_xticklabels(labels)\n",
        "ax.legend(loc='lower right')\n",
        "\n",
        "# add numerical labels to bars\n",
        "for rect in rects1:\n",
        "    height = rect.get_height()\n",
        "    ax.annotate(f'{height:.2f}', xy=(rect.get_x() + rect.get_width() / 2, height),\n",
        "                xytext=(0, 3),  # 3 points vertical offset\n",
        "                textcoords=\"offset points\",\n",
        "                ha='center', va='bottom')\n",
        "for rect in rects2:\n",
        "    height = rect.get_height()\n",
        "    ax.annotate(f'{height:.2f}', xy=(rect.get_x() + rect.get_width() / 2, height),\n",
        "                xytext=(0, 3),  # 3 points vertical offset\n",
        "                textcoords=\"offset points\",\n",
        "                ha='center', va='bottom')\n",
        "\n",
        "plt.show()\n",
        "\n",
        "# create bar plots for Accuracy\n",
        "train_acc = [train_acc_LR, train_acc_NB]\n",
        "test_acc = [test_acc_LR, test_acc_NB]\n",
        "\n",
        "fig, ax = plt.subplots()\n",
        "rects1 = ax.bar(x - width/2, train_acc, width, label='Training')\n",
        "rects2 = ax.bar(x + width/2, test_acc, width, label='Testing')\n",
        "\n",
        "ax.set_ylabel('Accuracy')\n",
        "ax.set_title('Comparison of Training and Testing Accuracy')\n",
        "ax.set_xticks(x)\n",
        "ax.set_xticklabels(labels)\n",
        "ax.legend(loc='lower right')\n",
        "\n",
        "# add numerical labels to bars\n",
        "for rect in rects1:\n",
        "    height = rect.get_height()\n",
        "    ax.annotate(f'{height:.2f}', xy=(rect.get_x() + rect.get_width() / 2, height),\n",
        "                xytext=(0, 3),  # 3 points vertical offset\n",
        "                textcoords=\"offset points\",\n",
        "                ha='center', va='bottom')\n",
        "for rect in rects2:\n",
        "    height = rect.get_height()\n",
        "    ax.annotate(f'{height:.2f}', xy=(rect.get_x() + rect.get_width() / 2, height),\n",
        "                xytext=(0, 3),  # 3 points vertical offset\n",
        "                textcoords=\"offset points\",\n",
        "                ha='center', va='bottom')\n",
        "\n",
        "plt.show()\n",
        "\n",
        "# create bar plots for Accuracy\n",
        "train_pre = [train_pre_LR, train_pre_NB]\n",
        "test_pre = [test_pre_LR, test_pre_NB]\n",
        "\n",
        "fig, ax = plt.subplots()\n",
        "rects1 = ax.bar(x - width/2, train_pre, width, label='Training')\n",
        "rects2 = ax.bar(x + width/2, test_pre, width, label='Testing')\n",
        "\n",
        "ax.set_ylabel('Precision')\n",
        "ax.set_title('Comparison of Training and Testing Precision')\n",
        "ax.set_xticks(x)\n",
        "ax.set_xticklabels(labels)\n",
        "ax.legend(loc='lower right')\n",
        "\n",
        "# add numerical labels to bars\n",
        "for rect in rects1:\n",
        "    height = rect.get_height()\n",
        "    ax.annotate(f'{height:.2f}', xy=(rect.get_x() + rect.get_width() / 2, height),\n",
        "                xytext=(0, 3),  # 3 points vertical offset\n",
        "                textcoords=\"offset points\",\n",
        "                ha='center', va='bottom')\n",
        "for rect in rects2:\n",
        "    height = rect.get_height()\n",
        "    ax.annotate(f'{height:.2f}', xy=(rect.get_x() + rect.get_width() / 2, height),\n",
        "                xytext=(0, 3),  # 3 points vertical offset\n",
        "                textcoords=\"offset points\",\n",
        "                ha='center', va='bottom')\n",
        "\n",
        "plt.show()"
      ],
      "metadata": {
        "colab": {
          "base_uri": "https://localhost:8080/",
          "height": 1000
        },
        "id": "KqiTCmAO6hUM",
        "outputId": "21e69126-0722-4de3-94f2-03dcb4d873da"
      },
      "execution_count": null,
      "outputs": [
        {
          "output_type": "display_data",
          "data": {
            "text/plain": [
              "<Figure size 432x288 with 1 Axes>"
            ],
            "image/png": "[encoded data removed]"
          },
          "metadata": {
            "needs_background": "light"
          }
        },
        {
          "output_type": "display_data",
          "data": {
            "text/plain": [
              "<Figure size 432x288 with 1 Axes>"
            ],
            "image/png": "[encoded data removed]"
          },
          "metadata": {
            "needs_background": "light"
          }
        },
        {
          "output_type": "display_data",
          "data": {
            "text/plain": [
              "<Figure size 432x288 with 1 Axes>"
            ],
            "image/png": "[encoded data removed]"
          },
          "metadata": {
            "needs_background": "light"
          }
        },
        {
          "output_type": "display_data",
          "data": {
            "text/plain": [
              "<Figure size 432x288 with 1 Axes>"
            ],
            "image/png": "[encoded data removed]"
          },
          "metadata": {
            "needs_background": "light"
          }
        }
      ]
    },
    {
      "cell_type": "code",
      "source": [
        "X_train = X_train_WV\n",
        "X_test = X_val_WV\n",
        "y_train = y_train_WV\n",
        "y_test = y_val_WV"
      ],
      "metadata": {
        "id": "NJMQSWwgKn-x"
      },
      "execution_count": null,
      "outputs": []
    },
    {
      "cell_type": "code",
      "source": [
        "from sklearn.linear_model import LogisticRegression\n",
        "from sklearn.naive_bayes import MultinomialNB\n",
        "from sklearn.neural_network import MLPClassifier\n",
        "from sklearn.metrics import accuracy_score\n",
        "\n",
        "# Convert input data to numpy arrays\n",
        "X_train = np.array(X_train)\n",
        "X_test = np.array(X_test)\n",
        "\n",
        "# Train and evaluate Logistic Regression model\n",
        "lr = LogisticRegression(max_iter=1000)\n",
        "lr.fit(X_train, y_train)\n",
        "y_pred_lr = lr.predict(X_test)\n",
        "acc_lr = accuracy_score(y_test, y_pred_lr)\n",
        "print(\"Logistic Regression accuracy:\", acc_lr)\n",
        "\n",
        "# Train and evaluate Naive Bayes model\n",
        "nb = MultinomialNB()\n",
        "nb.fit(X_train, y_train)\n",
        "y_pred_nb = nb.predict(X_test)\n",
        "acc_nb = accuracy_score(y_test, y_pred_nb)\n",
        "print(\"Naive Bayes accuracy:\", acc_nb)\n",
        "\n",
        "# Train and evaluate Neural Network model\n",
        "nn = MLPClassifier(hidden_layer_sizes=(100,), max_iter=1000)\n",
        "nn.fit(X_train, y_train)\n",
        "y_pred_nn = nn.predict(X_test)\n",
        "acc_nn = accuracy_score(y_test, y_pred_nn)\n",
        "print(\"Neural Network accuracy:\", acc_nn)\n"
      ],
      "metadata": {
        "colab": {
          "base_uri": "https://localhost:8080/",
          "height": 575
        },
        "id": "_zii6Q_tLyFY",
        "outputId": "b968ac17-ee37-4797-b535-96ebbb171658"
      },
      "execution_count": null,
      "outputs": [
        {
          "output_type": "stream",
          "name": "stderr",
          "text": [
            "<ipython-input-13-b830f0a549ba>:7: VisibleDeprecationWarning: Creating an ndarray from ragged nested sequences (which is a list-or-tuple of lists-or-tuples-or ndarrays with different lengths or shapes) is deprecated. If you meant to do this, you must specify 'dtype=object' when creating the ndarray.\n",
            "  X_train = np.array(X_train)\n",
            "<ipython-input-13-b830f0a549ba>:8: VisibleDeprecationWarning: Creating an ndarray from ragged nested sequences (which is a list-or-tuple of lists-or-tuples-or ndarrays with different lengths or shapes) is deprecated. If you meant to do this, you must specify 'dtype=object' when creating the ndarray.\n",
            "  X_test = np.array(X_test)\n"
          ]
        },
        {
          "output_type": "error",
          "ename": "ValueError",
          "evalue": "ignored",
          "traceback": [
            "\u001b[0;31m---------------------------------------------------------------------------\u001b[0m",
            "\u001b[0;31mTypeError\u001b[0m                                 Traceback (most recent call last)",
            "\u001b[0;31mTypeError\u001b[0m: float() argument must be a string or a number, not 'list'",
            "\nThe above exception was the direct cause of the following exception:\n",
            "\u001b[0;31mValueError\u001b[0m                                Traceback (most recent call last)",
            "\u001b[0;32m<ipython-input-13-b830f0a549ba>\u001b[0m in \u001b[0;36m<module>\u001b[0;34m\u001b[0m\n\u001b[1;32m     10\u001b[0m \u001b[0;31m# Train and evaluate Logistic Regression model\u001b[0m\u001b[0;34m\u001b[0m\u001b[0;34m\u001b[0m\u001b[0m\n\u001b[1;32m     11\u001b[0m \u001b[0mlr\u001b[0m \u001b[0;34m=\u001b[0m \u001b[0mLogisticRegression\u001b[0m\u001b[0;34m(\u001b[0m\u001b[0mmax_iter\u001b[0m\u001b[0;34m=\u001b[0m\u001b[0;36m1000\u001b[0m\u001b[0;34m)\u001b[0m\u001b[0;34m\u001b[0m\u001b[0;34m\u001b[0m\u001b[0m\n\u001b[0;32m---> 12\u001b[0;31m \u001b[0mlr\u001b[0m\u001b[0;34m.\u001b[0m\u001b[0mfit\u001b[0m\u001b[0;34m(\u001b[0m\u001b[0mX_train\u001b[0m\u001b[0;34m,\u001b[0m \u001b[0my_train\u001b[0m\u001b[0;34m)\u001b[0m\u001b[0;34m\u001b[0m\u001b[0;34m\u001b[0m\u001b[0m\n\u001b[0m\u001b[1;32m     13\u001b[0m \u001b[0my_pred_lr\u001b[0m \u001b[0;34m=\u001b[0m \u001b[0mlr\u001b[0m\u001b[0;34m.\u001b[0m\u001b[0mpredict\u001b[0m\u001b[0;34m(\u001b[0m\u001b[0mX_test\u001b[0m\u001b[0;34m)\u001b[0m\u001b[0;34m\u001b[0m\u001b[0;34m\u001b[0m\u001b[0m\n\u001b[1;32m     14\u001b[0m \u001b[0macc_lr\u001b[0m \u001b[0;34m=\u001b[0m \u001b[0maccuracy_score\u001b[0m\u001b[0;34m(\u001b[0m\u001b[0my_test\u001b[0m\u001b[0;34m,\u001b[0m \u001b[0my_pred_lr\u001b[0m\u001b[0;34m)\u001b[0m\u001b[0;34m\u001b[0m\u001b[0;34m\u001b[0m\u001b[0m\n",
            "\u001b[0;32m/usr/local/lib/python3.9/dist-packages/sklearn/linear_model/_logistic.py\u001b[0m in \u001b[0;36mfit\u001b[0;34m(self, X, y, sample_weight)\u001b[0m\n\u001b[1;32m   1194\u001b[0m             \u001b[0m_dtype\u001b[0m \u001b[0;34m=\u001b[0m \u001b[0;34m[\u001b[0m\u001b[0mnp\u001b[0m\u001b[0;34m.\u001b[0m\u001b[0mfloat64\u001b[0m\u001b[0;34m,\u001b[0m \u001b[0mnp\u001b[0m\u001b[0;34m.\u001b[0m\u001b[0mfloat32\u001b[0m\u001b[0;34m]\u001b[0m\u001b[0;34m\u001b[0m\u001b[0;34m\u001b[0m\u001b[0m\n\u001b[1;32m   1195\u001b[0m \u001b[0;34m\u001b[0m\u001b[0m\n\u001b[0;32m-> 1196\u001b[0;31m         X, y = self._validate_data(\n\u001b[0m\u001b[1;32m   1197\u001b[0m             \u001b[0mX\u001b[0m\u001b[0;34m,\u001b[0m\u001b[0;34m\u001b[0m\u001b[0;34m\u001b[0m\u001b[0m\n\u001b[1;32m   1198\u001b[0m             \u001b[0my\u001b[0m\u001b[0;34m,\u001b[0m\u001b[0;34m\u001b[0m\u001b[0;34m\u001b[0m\u001b[0m\n",
            "\u001b[0;32m/usr/local/lib/python3.9/dist-packages/sklearn/base.py\u001b[0m in \u001b[0;36m_validate_data\u001b[0;34m(self, X, y, reset, validate_separately, **check_params)\u001b[0m\n\u001b[1;32m    563\u001b[0m                 \u001b[0my\u001b[0m \u001b[0;34m=\u001b[0m \u001b[0mcheck_array\u001b[0m\u001b[0;34m(\u001b[0m\u001b[0my\u001b[0m\u001b[0;34m,\u001b[0m \u001b[0minput_name\u001b[0m\u001b[0;34m=\u001b[0m\u001b[0;34m\"y\"\u001b[0m\u001b[0;34m,\u001b[0m \u001b[0;34m**\u001b[0m\u001b[0mcheck_y_params\u001b[0m\u001b[0;34m)\u001b[0m\u001b[0;34m\u001b[0m\u001b[0;34m\u001b[0m\u001b[0m\n\u001b[1;32m    564\u001b[0m             \u001b[0;32melse\u001b[0m\u001b[0;34m:\u001b[0m\u001b[0;34m\u001b[0m\u001b[0;34m\u001b[0m\u001b[0m\n\u001b[0;32m--> 565\u001b[0;31m                 \u001b[0mX\u001b[0m\u001b[0;34m,\u001b[0m \u001b[0my\u001b[0m \u001b[0;34m=\u001b[0m \u001b[0mcheck_X_y\u001b[0m\u001b[0;34m(\u001b[0m\u001b[0mX\u001b[0m\u001b[0;34m,\u001b[0m \u001b[0my\u001b[0m\u001b[0;34m,\u001b[0m \u001b[0;34m**\u001b[0m\u001b[0mcheck_params\u001b[0m\u001b[0;34m)\u001b[0m\u001b[0;34m\u001b[0m\u001b[0;34m\u001b[0m\u001b[0m\n\u001b[0m\u001b[1;32m    566\u001b[0m             \u001b[0mout\u001b[0m \u001b[0;34m=\u001b[0m \u001b[0mX\u001b[0m\u001b[0;34m,\u001b[0m \u001b[0my\u001b[0m\u001b[0;34m\u001b[0m\u001b[0;34m\u001b[0m\u001b[0m\n\u001b[1;32m    567\u001b[0m \u001b[0;34m\u001b[0m\u001b[0m\n",
            "\u001b[0;32m/usr/local/lib/python3.9/dist-packages/sklearn/utils/validation.py\u001b[0m in \u001b[0;36mcheck_X_y\u001b[0;34m(X, y, accept_sparse, accept_large_sparse, dtype, order, copy, force_all_finite, ensure_2d, allow_nd, multi_output, ensure_min_samples, ensure_min_features, y_numeric, estimator)\u001b[0m\n\u001b[1;32m   1104\u001b[0m         )\n\u001b[1;32m   1105\u001b[0m \u001b[0;34m\u001b[0m\u001b[0m\n\u001b[0;32m-> 1106\u001b[0;31m     X = check_array(\n\u001b[0m\u001b[1;32m   1107\u001b[0m         \u001b[0mX\u001b[0m\u001b[0;34m,\u001b[0m\u001b[0;34m\u001b[0m\u001b[0;34m\u001b[0m\u001b[0m\n\u001b[1;32m   1108\u001b[0m         \u001b[0maccept_sparse\u001b[0m\u001b[0;34m=\u001b[0m\u001b[0maccept_sparse\u001b[0m\u001b[0;34m,\u001b[0m\u001b[0;34m\u001b[0m\u001b[0;34m\u001b[0m\u001b[0m\n",
            "\u001b[0;32m/usr/local/lib/python3.9/dist-packages/sklearn/utils/validation.py\u001b[0m in \u001b[0;36mcheck_array\u001b[0;34m(array, accept_sparse, accept_large_sparse, dtype, order, copy, force_all_finite, ensure_2d, allow_nd, ensure_min_samples, ensure_min_features, estimator, input_name)\u001b[0m\n\u001b[1;32m    877\u001b[0m                     \u001b[0marray\u001b[0m \u001b[0;34m=\u001b[0m \u001b[0mxp\u001b[0m\u001b[0;34m.\u001b[0m\u001b[0mastype\u001b[0m\u001b[0;34m(\u001b[0m\u001b[0marray\u001b[0m\u001b[0;34m,\u001b[0m \u001b[0mdtype\u001b[0m\u001b[0;34m,\u001b[0m \u001b[0mcopy\u001b[0m\u001b[0;34m=\u001b[0m\u001b[0;32mFalse\u001b[0m\u001b[0;34m)\u001b[0m\u001b[0;34m\u001b[0m\u001b[0;34m\u001b[0m\u001b[0m\n\u001b[1;32m    878\u001b[0m                 \u001b[0;32melse\u001b[0m\u001b[0;34m:\u001b[0m\u001b[0;34m\u001b[0m\u001b[0;34m\u001b[0m\u001b[0m\n\u001b[0;32m--> 879\u001b[0;31m                     \u001b[0marray\u001b[0m \u001b[0;34m=\u001b[0m \u001b[0m_asarray_with_order\u001b[0m\u001b[0;34m(\u001b[0m\u001b[0marray\u001b[0m\u001b[0;34m,\u001b[0m \u001b[0morder\u001b[0m\u001b[0;34m=\u001b[0m\u001b[0morder\u001b[0m\u001b[0;34m,\u001b[0m \u001b[0mdtype\u001b[0m\u001b[0;34m=\u001b[0m\u001b[0mdtype\u001b[0m\u001b[0;34m,\u001b[0m \u001b[0mxp\u001b[0m\u001b[0;34m=\u001b[0m\u001b[0mxp\u001b[0m\u001b[0;34m)\u001b[0m\u001b[0;34m\u001b[0m\u001b[0;34m\u001b[0m\u001b[0m\n\u001b[0m\u001b[1;32m    880\u001b[0m             \u001b[0;32mexcept\u001b[0m \u001b[0mComplexWarning\u001b[0m \u001b[0;32mas\u001b[0m \u001b[0mcomplex_warning\u001b[0m\u001b[0;34m:\u001b[0m\u001b[0;34m\u001b[0m\u001b[0;34m\u001b[0m\u001b[0m\n\u001b[1;32m    881\u001b[0m                 raise ValueError(\n",
            "\u001b[0;32m/usr/local/lib/python3.9/dist-packages/sklearn/utils/_array_api.py\u001b[0m in \u001b[0;36m_asarray_with_order\u001b[0;34m(array, dtype, order, copy, xp)\u001b[0m\n\u001b[1;32m    183\u001b[0m     \u001b[0;32mif\u001b[0m \u001b[0mxp\u001b[0m\u001b[0;34m.\u001b[0m\u001b[0m__name__\u001b[0m \u001b[0;32min\u001b[0m \u001b[0;34m{\u001b[0m\u001b[0;34m\"numpy\"\u001b[0m\u001b[0;34m,\u001b[0m \u001b[0;34m\"numpy.array_api\"\u001b[0m\u001b[0;34m}\u001b[0m\u001b[0;34m:\u001b[0m\u001b[0;34m\u001b[0m\u001b[0;34m\u001b[0m\u001b[0m\n\u001b[1;32m    184\u001b[0m         \u001b[0;31m# Use NumPy API to support order\u001b[0m\u001b[0;34m\u001b[0m\u001b[0;34m\u001b[0m\u001b[0m\n\u001b[0;32m--> 185\u001b[0;31m         \u001b[0marray\u001b[0m \u001b[0;34m=\u001b[0m \u001b[0mnumpy\u001b[0m\u001b[0;34m.\u001b[0m\u001b[0masarray\u001b[0m\u001b[0;34m(\u001b[0m\u001b[0marray\u001b[0m\u001b[0;34m,\u001b[0m \u001b[0morder\u001b[0m\u001b[0;34m=\u001b[0m\u001b[0morder\u001b[0m\u001b[0;34m,\u001b[0m \u001b[0mdtype\u001b[0m\u001b[0;34m=\u001b[0m\u001b[0mdtype\u001b[0m\u001b[0;34m)\u001b[0m\u001b[0;34m\u001b[0m\u001b[0;34m\u001b[0m\u001b[0m\n\u001b[0m\u001b[1;32m    186\u001b[0m         \u001b[0;32mreturn\u001b[0m \u001b[0mxp\u001b[0m\u001b[0;34m.\u001b[0m\u001b[0masarray\u001b[0m\u001b[0;34m(\u001b[0m\u001b[0marray\u001b[0m\u001b[0;34m,\u001b[0m \u001b[0mcopy\u001b[0m\u001b[0;34m=\u001b[0m\u001b[0mcopy\u001b[0m\u001b[0;34m)\u001b[0m\u001b[0;34m\u001b[0m\u001b[0;34m\u001b[0m\u001b[0m\n\u001b[1;32m    187\u001b[0m     \u001b[0;32melse\u001b[0m\u001b[0;34m:\u001b[0m\u001b[0;34m\u001b[0m\u001b[0;34m\u001b[0m\u001b[0m\n",
            "\u001b[0;31mValueError\u001b[0m: setting an array element with a sequence."
          ]
        }
      ]
    },
    {
      "cell_type": "code",
      "source": [
        "from sklearn.metrics import accuracy_score, confusion_matrix, classification_report, roc_curve, auc, f1_score, precision_score\n",
        "from sklearn.naive_bayes import MultinomialNB\n",
        "from sklearn.linear_model import LogisticRegression\n",
        "from sklearn.ensemble import RandomForestClassifier\n",
        "from sklearn.svm import SVC\n",
        "import matplotlib.pyplot as plt\n",
        "\n",
        "classifiers = {\n",
        "    'Logistic Regression': LogisticRegression(max_iter=1000),\n",
        "    'Naive Bayes': MultinomialNB(),\n",
        "    # 'Random Forest': RandomForestClassifier(),\n",
        "    # 'SVM': SVC()\n",
        "}\n",
        "\n",
        "tf_results = {}\n",
        "\n",
        "for name, clf in classifiers.items():\n",
        "    clf.fit(X_train, y_train)\n",
        "    y_pred_train = clf.predict(X_train)\n",
        "    y_pred_test = clf.predict(X_test)\n",
        "    acc_train = accuracy_score(y_train, y_pred_train)\n",
        "    acc_test = accuracy_score(y_test, y_pred_test)\n",
        "    f1_train = f1_score(y_train, y_pred_train)\n",
        "    f1_test = f1_score(y_test, y_pred_test)\n",
        "    precision_train = precision_score(y_train, y_pred_train)\n",
        "    precision_test = precision_score(y_test, y_pred_test)\n",
        "    train_loss = clf.score(X_train, y_train)\n",
        "    test_loss = clf.score(X_test, y_test)\n",
        "    print(f\"{name}\")\n",
        "    print(f\"Training Accuracy: {acc_train}\")\n",
        "    print(f\"Testing Accuracy: {acc_test}\")\n",
        "    print(f\"Training F1-score: {f1_train}\")\n",
        "    print(f\"Testing F1-score: {f1_test}\")\n",
        "    print(f\"Training Precision: {precision_train}\")\n",
        "    print(f\"Testing Precision: {precision_test}\")\n",
        "    print(f\"Training Loss: {train_loss}\")\n",
        "    print(f\"Testing Loss: {test_loss}\")\n",
        "    print(confusion_matrix(y_test, y_pred_test))\n",
        "    print(classification_report(y_test, y_pred_test))\n",
        "\n",
        "    tf_results[name] = {\n",
        "        'train_accuracy': acc_train,\n",
        "        'test_accuracy': acc_test,\n",
        "        'train_f1_score': f1_train,\n",
        "        'test_f1_score': f1_test,\n",
        "        'train_precision': precision_train,\n",
        "        'test_precision': precision_test,\n",
        "        'train_loss': train_loss,\n",
        "        'test_loss': test_loss,\n",
        "        'confusion_matrix': confusion_matrix(y_test, y_pred_test),\n",
        "        'classification_report': classification_report(y_test, y_pred_test)\n",
        "    }\n"
      ],
      "metadata": {
        "colab": {
          "base_uri": "https://localhost:8080/",
          "height": 416
        },
        "outputId": "13d42fd4-13a6-424a-c23e-6cbc5e519ddd",
        "id": "0221GYx8Kn-x"
      },
      "execution_count": null,
      "outputs": [
        {
          "output_type": "error",
          "ename": "ValueError",
          "evalue": "ignored",
          "traceback": [
            "\u001b[0;31m---------------------------------------------------------------------------\u001b[0m",
            "\u001b[0;31mValueError\u001b[0m                                Traceback (most recent call last)",
            "\u001b[0;32m<ipython-input-11-116c136a0e49>\u001b[0m in \u001b[0;36m<module>\u001b[0;34m\u001b[0m\n\u001b[1;32m     16\u001b[0m \u001b[0;34m\u001b[0m\u001b[0m\n\u001b[1;32m     17\u001b[0m \u001b[0;32mfor\u001b[0m \u001b[0mname\u001b[0m\u001b[0;34m,\u001b[0m \u001b[0mclf\u001b[0m \u001b[0;32min\u001b[0m \u001b[0mclassifiers\u001b[0m\u001b[0;34m.\u001b[0m\u001b[0mitems\u001b[0m\u001b[0;34m(\u001b[0m\u001b[0;34m)\u001b[0m\u001b[0;34m:\u001b[0m\u001b[0;34m\u001b[0m\u001b[0;34m\u001b[0m\u001b[0m\n\u001b[0;32m---> 18\u001b[0;31m     \u001b[0mclf\u001b[0m\u001b[0;34m.\u001b[0m\u001b[0mfit\u001b[0m\u001b[0;34m(\u001b[0m\u001b[0mX_train\u001b[0m\u001b[0;34m,\u001b[0m \u001b[0my_train\u001b[0m\u001b[0;34m)\u001b[0m\u001b[0;34m\u001b[0m\u001b[0;34m\u001b[0m\u001b[0m\n\u001b[0m\u001b[1;32m     19\u001b[0m     \u001b[0my_pred_train\u001b[0m \u001b[0;34m=\u001b[0m \u001b[0mclf\u001b[0m\u001b[0;34m.\u001b[0m\u001b[0mpredict\u001b[0m\u001b[0;34m(\u001b[0m\u001b[0mX_train\u001b[0m\u001b[0;34m)\u001b[0m\u001b[0;34m\u001b[0m\u001b[0;34m\u001b[0m\u001b[0m\n\u001b[1;32m     20\u001b[0m     \u001b[0my_pred_test\u001b[0m \u001b[0;34m=\u001b[0m \u001b[0mclf\u001b[0m\u001b[0;34m.\u001b[0m\u001b[0mpredict\u001b[0m\u001b[0;34m(\u001b[0m\u001b[0mX_test\u001b[0m\u001b[0;34m)\u001b[0m\u001b[0;34m\u001b[0m\u001b[0;34m\u001b[0m\u001b[0m\n",
            "\u001b[0;32m/usr/local/lib/python3.9/dist-packages/sklearn/linear_model/_logistic.py\u001b[0m in \u001b[0;36mfit\u001b[0;34m(self, X, y, sample_weight)\u001b[0m\n\u001b[1;32m   1194\u001b[0m             \u001b[0m_dtype\u001b[0m \u001b[0;34m=\u001b[0m \u001b[0;34m[\u001b[0m\u001b[0mnp\u001b[0m\u001b[0;34m.\u001b[0m\u001b[0mfloat64\u001b[0m\u001b[0;34m,\u001b[0m \u001b[0mnp\u001b[0m\u001b[0;34m.\u001b[0m\u001b[0mfloat32\u001b[0m\u001b[0;34m]\u001b[0m\u001b[0;34m\u001b[0m\u001b[0;34m\u001b[0m\u001b[0m\n\u001b[1;32m   1195\u001b[0m \u001b[0;34m\u001b[0m\u001b[0m\n\u001b[0;32m-> 1196\u001b[0;31m         X, y = self._validate_data(\n\u001b[0m\u001b[1;32m   1197\u001b[0m             \u001b[0mX\u001b[0m\u001b[0;34m,\u001b[0m\u001b[0;34m\u001b[0m\u001b[0;34m\u001b[0m\u001b[0m\n\u001b[1;32m   1198\u001b[0m             \u001b[0my\u001b[0m\u001b[0;34m,\u001b[0m\u001b[0;34m\u001b[0m\u001b[0;34m\u001b[0m\u001b[0m\n",
            "\u001b[0;32m/usr/local/lib/python3.9/dist-packages/sklearn/base.py\u001b[0m in \u001b[0;36m_validate_data\u001b[0;34m(self, X, y, reset, validate_separately, **check_params)\u001b[0m\n\u001b[1;32m    563\u001b[0m                 \u001b[0my\u001b[0m \u001b[0;34m=\u001b[0m \u001b[0mcheck_array\u001b[0m\u001b[0;34m(\u001b[0m\u001b[0my\u001b[0m\u001b[0;34m,\u001b[0m \u001b[0minput_name\u001b[0m\u001b[0;34m=\u001b[0m\u001b[0;34m\"y\"\u001b[0m\u001b[0;34m,\u001b[0m \u001b[0;34m**\u001b[0m\u001b[0mcheck_y_params\u001b[0m\u001b[0;34m)\u001b[0m\u001b[0;34m\u001b[0m\u001b[0;34m\u001b[0m\u001b[0m\n\u001b[1;32m    564\u001b[0m             \u001b[0;32melse\u001b[0m\u001b[0;34m:\u001b[0m\u001b[0;34m\u001b[0m\u001b[0;34m\u001b[0m\u001b[0m\n\u001b[0;32m--> 565\u001b[0;31m                 \u001b[0mX\u001b[0m\u001b[0;34m,\u001b[0m \u001b[0my\u001b[0m \u001b[0;34m=\u001b[0m \u001b[0mcheck_X_y\u001b[0m\u001b[0;34m(\u001b[0m\u001b[0mX\u001b[0m\u001b[0;34m,\u001b[0m \u001b[0my\u001b[0m\u001b[0;34m,\u001b[0m \u001b[0;34m**\u001b[0m\u001b[0mcheck_params\u001b[0m\u001b[0;34m)\u001b[0m\u001b[0;34m\u001b[0m\u001b[0;34m\u001b[0m\u001b[0m\n\u001b[0m\u001b[1;32m    566\u001b[0m             \u001b[0mout\u001b[0m \u001b[0;34m=\u001b[0m \u001b[0mX\u001b[0m\u001b[0;34m,\u001b[0m \u001b[0my\u001b[0m\u001b[0;34m\u001b[0m\u001b[0;34m\u001b[0m\u001b[0m\n\u001b[1;32m    567\u001b[0m \u001b[0;34m\u001b[0m\u001b[0m\n",
            "\u001b[0;32m/usr/local/lib/python3.9/dist-packages/sklearn/utils/validation.py\u001b[0m in \u001b[0;36mcheck_X_y\u001b[0;34m(X, y, accept_sparse, accept_large_sparse, dtype, order, copy, force_all_finite, ensure_2d, allow_nd, multi_output, ensure_min_samples, ensure_min_features, y_numeric, estimator)\u001b[0m\n\u001b[1;32m   1104\u001b[0m         )\n\u001b[1;32m   1105\u001b[0m \u001b[0;34m\u001b[0m\u001b[0m\n\u001b[0;32m-> 1106\u001b[0;31m     X = check_array(\n\u001b[0m\u001b[1;32m   1107\u001b[0m         \u001b[0mX\u001b[0m\u001b[0;34m,\u001b[0m\u001b[0;34m\u001b[0m\u001b[0;34m\u001b[0m\u001b[0m\n\u001b[1;32m   1108\u001b[0m         \u001b[0maccept_sparse\u001b[0m\u001b[0;34m=\u001b[0m\u001b[0maccept_sparse\u001b[0m\u001b[0;34m,\u001b[0m\u001b[0;34m\u001b[0m\u001b[0;34m\u001b[0m\u001b[0m\n",
            "\u001b[0;32m/usr/local/lib/python3.9/dist-packages/sklearn/utils/validation.py\u001b[0m in \u001b[0;36mcheck_array\u001b[0;34m(array, accept_sparse, accept_large_sparse, dtype, order, copy, force_all_finite, ensure_2d, allow_nd, ensure_min_samples, ensure_min_features, estimator, input_name)\u001b[0m\n\u001b[1;32m    877\u001b[0m                     \u001b[0marray\u001b[0m \u001b[0;34m=\u001b[0m \u001b[0mxp\u001b[0m\u001b[0;34m.\u001b[0m\u001b[0mastype\u001b[0m\u001b[0;34m(\u001b[0m\u001b[0marray\u001b[0m\u001b[0;34m,\u001b[0m \u001b[0mdtype\u001b[0m\u001b[0;34m,\u001b[0m \u001b[0mcopy\u001b[0m\u001b[0;34m=\u001b[0m\u001b[0;32mFalse\u001b[0m\u001b[0;34m)\u001b[0m\u001b[0;34m\u001b[0m\u001b[0;34m\u001b[0m\u001b[0m\n\u001b[1;32m    878\u001b[0m                 \u001b[0;32melse\u001b[0m\u001b[0;34m:\u001b[0m\u001b[0;34m\u001b[0m\u001b[0;34m\u001b[0m\u001b[0m\n\u001b[0;32m--> 879\u001b[0;31m                     \u001b[0marray\u001b[0m \u001b[0;34m=\u001b[0m \u001b[0m_asarray_with_order\u001b[0m\u001b[0;34m(\u001b[0m\u001b[0marray\u001b[0m\u001b[0;34m,\u001b[0m \u001b[0morder\u001b[0m\u001b[0;34m=\u001b[0m\u001b[0morder\u001b[0m\u001b[0;34m,\u001b[0m \u001b[0mdtype\u001b[0m\u001b[0;34m=\u001b[0m\u001b[0mdtype\u001b[0m\u001b[0;34m,\u001b[0m \u001b[0mxp\u001b[0m\u001b[0;34m=\u001b[0m\u001b[0mxp\u001b[0m\u001b[0;34m)\u001b[0m\u001b[0;34m\u001b[0m\u001b[0;34m\u001b[0m\u001b[0m\n\u001b[0m\u001b[1;32m    880\u001b[0m             \u001b[0;32mexcept\u001b[0m \u001b[0mComplexWarning\u001b[0m \u001b[0;32mas\u001b[0m \u001b[0mcomplex_warning\u001b[0m\u001b[0;34m:\u001b[0m\u001b[0;34m\u001b[0m\u001b[0;34m\u001b[0m\u001b[0m\n\u001b[1;32m    881\u001b[0m                 raise ValueError(\n",
            "\u001b[0;32m/usr/local/lib/python3.9/dist-packages/sklearn/utils/_array_api.py\u001b[0m in \u001b[0;36m_asarray_with_order\u001b[0;34m(array, dtype, order, copy, xp)\u001b[0m\n\u001b[1;32m    183\u001b[0m     \u001b[0;32mif\u001b[0m \u001b[0mxp\u001b[0m\u001b[0;34m.\u001b[0m\u001b[0m__name__\u001b[0m \u001b[0;32min\u001b[0m \u001b[0;34m{\u001b[0m\u001b[0;34m\"numpy\"\u001b[0m\u001b[0;34m,\u001b[0m \u001b[0;34m\"numpy.array_api\"\u001b[0m\u001b[0;34m}\u001b[0m\u001b[0;34m:\u001b[0m\u001b[0;34m\u001b[0m\u001b[0;34m\u001b[0m\u001b[0m\n\u001b[1;32m    184\u001b[0m         \u001b[0;31m# Use NumPy API to support order\u001b[0m\u001b[0;34m\u001b[0m\u001b[0;34m\u001b[0m\u001b[0m\n\u001b[0;32m--> 185\u001b[0;31m         \u001b[0marray\u001b[0m \u001b[0;34m=\u001b[0m \u001b[0mnumpy\u001b[0m\u001b[0;34m.\u001b[0m\u001b[0masarray\u001b[0m\u001b[0;34m(\u001b[0m\u001b[0marray\u001b[0m\u001b[0;34m,\u001b[0m \u001b[0morder\u001b[0m\u001b[0;34m=\u001b[0m\u001b[0morder\u001b[0m\u001b[0;34m,\u001b[0m \u001b[0mdtype\u001b[0m\u001b[0;34m=\u001b[0m\u001b[0mdtype\u001b[0m\u001b[0;34m)\u001b[0m\u001b[0;34m\u001b[0m\u001b[0;34m\u001b[0m\u001b[0m\n\u001b[0m\u001b[1;32m    186\u001b[0m         \u001b[0;32mreturn\u001b[0m \u001b[0mxp\u001b[0m\u001b[0;34m.\u001b[0m\u001b[0masarray\u001b[0m\u001b[0;34m(\u001b[0m\u001b[0marray\u001b[0m\u001b[0;34m,\u001b[0m \u001b[0mcopy\u001b[0m\u001b[0;34m=\u001b[0m\u001b[0mcopy\u001b[0m\u001b[0;34m)\u001b[0m\u001b[0;34m\u001b[0m\u001b[0;34m\u001b[0m\u001b[0m\n\u001b[1;32m    187\u001b[0m     \u001b[0;32melse\u001b[0m\u001b[0;34m:\u001b[0m\u001b[0;34m\u001b[0m\u001b[0;34m\u001b[0m\u001b[0m\n",
            "\u001b[0;31mValueError\u001b[0m: setting an array element with a sequence. The requested array has an inhomogeneous shape after 1 dimensions. The detected shape was (838860,) + inhomogeneous part."
          ]
        }
      ]
    },
    {
      "cell_type": "code",
      "source": [
        "import numpy as np\n",
        "\n",
        "for name, results in tf_results.items():\n",
        "    cm = results['confusion_matrix']\n",
        "    classes = np.unique(y_test)\n",
        "    fig, ax = plt.subplots()\n",
        "    im = ax.imshow(cm, interpolation='nearest', cmap=plt.cm.Blues)\n",
        "    ax.figure.colorbar(im, ax=ax)\n",
        "    ax.set(xticks=np.arange(cm.shape[1]),\n",
        "           yticks=np.arange(cm.shape[0]),\n",
        "           xticklabels=classes, yticklabels=classes,\n",
        "           ylabel='True label',\n",
        "           xlabel='Predicted label')\n",
        "    plt.title(f'{name} Confusion Matrix')\n",
        "    plt.setp(ax.get_xticklabels(), rotation=45, ha=\"right\",\n",
        "             rotation_mode=\"anchor\")\n",
        "    fmt = 'd'\n",
        "    thresh = cm.max() / 2.\n",
        "    for i in range(cm.shape[0]):\n",
        "        for j in range(cm.shape[1]):\n",
        "            ax.text(j, i, format(cm[i, j], fmt),\n",
        "                    ha=\"center\", va=\"center\",\n",
        "                    color=\"white\" if cm[i, j] > thresh else \"black\")\n",
        "    fig.tight_layout()\n",
        "    plt.show()\n"
      ],
      "metadata": {
        "colab": {
          "base_uri": "https://localhost:8080/",
          "height": 577
        },
        "outputId": "621ad55e-90ed-4c1d-e652-c09c68c73534",
        "id": "5GgSj2tpLRLq"
      },
      "execution_count": null,
      "outputs": [
        {
          "output_type": "display_data",
          "data": {
            "text/plain": [
              "<Figure size 432x288 with 2 Axes>"
            ],
            "image/png": "[encoded data removed]"
          },
          "metadata": {
            "needs_background": "light"
          }
        },
        {
          "output_type": "display_data",
          "data": {
            "text/plain": [
              "<Figure size 432x288 with 2 Axes>"
            ],
            "image/png": "[encoded data removed]"
          },
          "metadata": {
            "needs_background": "light"
          }
        }
      ]
    },
    {
      "cell_type": "code",
      "source": [
        "import matplotlib.pyplot as plt\n",
        "import numpy as np\n",
        "\n",
        "# get data from tf_results dictionary\n",
        "train_f1_LR = tf_results['Logistic Regression']['train_f1_score']\n",
        "test_f1_LR = tf_results['Logistic Regression']['test_f1_score']\n",
        "train_f1_NB = tf_results['Naive Bayes']['train_f1_score']\n",
        "test_f1_NB = tf_results['Naive Bayes']['test_f1_score']\n",
        "\n",
        "train_acc_LR = tf_results['Logistic Regression']['train_accuracy']\n",
        "test_acc_LR = tf_results['Logistic Regression']['test_accuracy']\n",
        "train_acc_NB = tf_results['Naive Bayes']['train_accuracy']\n",
        "test_acc_NB = tf_results['Naive Bayes']['test_accuracy']\n",
        "\n",
        "train_loss_LR = tf_results['Logistic Regression']['train_loss']\n",
        "test_loss_LR = tf_results['Logistic Regression']['test_loss']\n",
        "train_loss_NB = tf_results['Naive Bayes']['train_loss']\n",
        "test_loss_NB = tf_results['Naive Bayes']['test_loss']\n",
        "\n",
        "train_pre_LR = tf_results['Logistic Regression']['train_precision']\n",
        "test_pre_LR = tf_results['Logistic Regression']['test_precision']\n",
        "train_pre_NB = tf_results['Naive Bayes']['train_precision']\n",
        "test_pre_NB = tf_results['Naive Bayes']['test_precision']\n",
        "\n",
        "# create bar plots for Loss\n",
        "labels = ['Logistic Regression', 'Naive Bayes']\n",
        "train_losses = [train_loss_LR, train_loss_NB]\n",
        "test_losses = [test_loss_LR, test_loss_NB]\n",
        "x = np.arange(len(labels))\n",
        "width = 0.35\n",
        "\n",
        "fig, ax = plt.subplots()\n",
        "rects1 = ax.bar(x - width/2, train_losses, width, label='Training')\n",
        "rects2 = ax.bar(x + width/2, test_losses, width, label='Testing')\n",
        "\n",
        "ax.set_ylabel('Loss')\n",
        "ax.set_title('Comparison of Training and Testing Loss')\n",
        "ax.set_xticks(x)\n",
        "ax.set_xticklabels(labels)\n",
        "ax.legend(loc='lower right')\n",
        "\n",
        "# add numerical labels to bars\n",
        "for rect in rects1:\n",
        "    height = rect.get_height()\n",
        "    ax.annotate(f'{height:.2f}', xy=(rect.get_x() + rect.get_width() / 2, height),\n",
        "                xytext=(0, 3),  # 3 points vertical offset\n",
        "                textcoords=\"offset points\",\n",
        "                ha='center', va='bottom')\n",
        "for rect in rects2:\n",
        "    height = rect.get_height()\n",
        "    ax.annotate(f'{height:.2f}', xy=(rect.get_x() + rect.get_width() / 2, height),\n",
        "                xytext=(0, 3),  # 3 points vertical offset\n",
        "                textcoords=\"offset points\",\n",
        "                ha='center', va='bottom')\n",
        "\n",
        "plt.show()\n",
        "\n",
        "\n",
        "# create bar plots for F1-scores\n",
        "labels = ['Logistic Regression', 'Naive Bayes']\n",
        "train_f1 = [train_f1_LR, train_f1_NB]\n",
        "test_f1 = [test_f1_LR, test_f1_NB]\n",
        "x = np.arange(len(labels))\n",
        "width = 0.35\n",
        "\n",
        "fig, ax = plt.subplots()\n",
        "rects1 = ax.bar(x - width/2, train_f1, width, label='Training')\n",
        "rects2 = ax.bar(x + width/2, test_f1, width, label='Testing')\n",
        "\n",
        "ax.set_ylabel('F1-score')\n",
        "ax.set_title('Comparison of Training and Testing F1-score')\n",
        "ax.set_xticks(x)\n",
        "ax.set_xticklabels(labels)\n",
        "ax.legend(loc='lower right')\n",
        "\n",
        "# add numerical labels to bars\n",
        "for rect in rects1:\n",
        "    height = rect.get_height()\n",
        "    ax.annotate(f'{height:.2f}', xy=(rect.get_x() + rect.get_width() / 2, height),\n",
        "                xytext=(0, 3),  # 3 points vertical offset\n",
        "                textcoords=\"offset points\",\n",
        "                ha='center', va='bottom')\n",
        "for rect in rects2:\n",
        "    height = rect.get_height()\n",
        "    ax.annotate(f'{height:.2f}', xy=(rect.get_x() + rect.get_width() / 2, height),\n",
        "                xytext=(0, 3),  # 3 points vertical offset\n",
        "                textcoords=\"offset points\",\n",
        "                ha='center', va='bottom')\n",
        "\n",
        "plt.show()\n",
        "\n",
        "# create bar plots for Accuracy\n",
        "train_acc = [train_acc_LR, train_acc_NB]\n",
        "test_acc = [test_acc_LR, test_acc_NB]\n",
        "\n",
        "fig, ax = plt.subplots()\n",
        "rects1 = ax.bar(x - width/2, train_acc, width, label='Training')\n",
        "rects2 = ax.bar(x + width/2, test_acc, width, label='Testing')\n",
        "\n",
        "ax.set_ylabel('Accuracy')\n",
        "ax.set_title('Comparison of Training and Testing Accuracy')\n",
        "ax.set_xticks(x)\n",
        "ax.set_xticklabels(labels)\n",
        "ax.legend(loc='lower right')\n",
        "\n",
        "# add numerical labels to bars\n",
        "for rect in rects1:\n",
        "    height = rect.get_height()\n",
        "    ax.annotate(f'{height:.2f}', xy=(rect.get_x() + rect.get_width() / 2, height),\n",
        "                xytext=(0, 3),  # 3 points vertical offset\n",
        "                textcoords=\"offset points\",\n",
        "                ha='center', va='bottom')\n",
        "for rect in rects2:\n",
        "    height = rect.get_height()\n",
        "    ax.annotate(f'{height:.2f}', xy=(rect.get_x() + rect.get_width() / 2, height),\n",
        "                xytext=(0, 3),  # 3 points vertical offset\n",
        "                textcoords=\"offset points\",\n",
        "                ha='center', va='bottom')\n",
        "\n",
        "plt.show()\n",
        "\n",
        "# create bar plots for Accuracy\n",
        "train_pre = [train_pre_LR, train_pre_NB]\n",
        "test_pre = [test_pre_LR, test_pre_NB]\n",
        "\n",
        "fig, ax = plt.subplots()\n",
        "rects1 = ax.bar(x - width/2, train_pre, width, label='Training')\n",
        "rects2 = ax.bar(x + width/2, test_pre, width, label='Testing')\n",
        "\n",
        "ax.set_ylabel('Precision')\n",
        "ax.set_title('Comparison of Training and Testing Precision')\n",
        "ax.set_xticks(x)\n",
        "ax.set_xticklabels(labels)\n",
        "ax.legend(loc='lower right')\n",
        "\n",
        "# add numerical labels to bars\n",
        "for rect in rects1:\n",
        "    height = rect.get_height()\n",
        "    ax.annotate(f'{height:.2f}', xy=(rect.get_x() + rect.get_width() / 2, height),\n",
        "                xytext=(0, 3),  # 3 points vertical offset\n",
        "                textcoords=\"offset points\",\n",
        "                ha='center', va='bottom')\n",
        "for rect in rects2:\n",
        "    height = rect.get_height()\n",
        "    ax.annotate(f'{height:.2f}', xy=(rect.get_x() + rect.get_width() / 2, height),\n",
        "                xytext=(0, 3),  # 3 points vertical offset\n",
        "                textcoords=\"offset points\",\n",
        "                ha='center', va='bottom')\n",
        "\n",
        "plt.show()"
      ],
      "metadata": {
        "colab": {
          "base_uri": "https://localhost:8080/",
          "height": 1000
        },
        "outputId": "21e69126-0722-4de3-94f2-03dcb4d873da",
        "id": "jvlnvyKrLRLr"
      },
      "execution_count": null,
      "outputs": [
        {
          "output_type": "display_data",
          "data": {
            "text/plain": [
              "<Figure size 432x288 with 1 Axes>"
            ],
            "image/png": "[encoded data removed]"
          },
          "metadata": {
            "needs_background": "light"
          }
        },
        {
          "output_type": "display_data",
          "data": {
            "text/plain": [
              "<Figure size 432x288 with 1 Axes>"
            ],
            "image/png": "[encoded data removed]"
          },
          "metadata": {
            "needs_background": "light"
          }
        },
        {
          "output_type": "display_data",
          "data": {
            "text/plain": [
              "<Figure size 432x288 with 1 Axes>"
            ],
            "image/png": "[encoded data removed]"
          },
          "metadata": {
            "needs_background": "light"
          }
        },
        {
          "output_type": "display_data",
          "data": {
            "text/plain": [
              "<Figure size 432x288 with 1 Axes>"
            ],
            "image/png": "[encoded data removed]"
          },
          "metadata": {
            "needs_background": "light"
          }
        }
      ]
    },
    {
      "cell_type": "markdown",
      "source": [
        "### Logistic Regression with Bag of Words vs TF*IDF"
      ],
      "metadata": {
        "id": "5E3beIzWdViS"
      }
    },
    {
      "cell_type": "code",
      "source": [
        "from sklearn.metrics import accuracy_score, confusion_matrix, classification_report\n",
        "from sklearn.linear_model import LogisticRegression\n",
        "\n",
        "classifiers = {\n",
        "    'Logistic Regression': LogisticRegression(max_iter=1000)\n",
        "}\n",
        "\n",
        "datasets = {\n",
        "    'BW': (X_train_BW, X_test_BW, y_train_BW, y_test_BW),\n",
        "    'TF': (X_train_TF, X_test_TF, y_train_TF, y_test_TF)\n",
        "}\n",
        "\n",
        "log_reg_results = {}\n",
        "\n",
        "for dataset_name, dataset in datasets.items():\n",
        "    X_train, X_test, y_train, y_test = dataset\n",
        "    print(f\"Dataset: {dataset_name}\")\n",
        "    for clf_name, clf in classifiers.items():\n",
        "            clf.fit(X_train, y_train)\n",
        "            y_pred_train = clf.predict(X_train)\n",
        "            y_pred_test = clf.predict(X_test)\n",
        "            acc_train = accuracy_score(y_train, y_pred_train)\n",
        "            acc_test = accuracy_score(y_test, y_pred_test)\n",
        "            f1_train = f1_score(y_train, y_pred_train)\n",
        "            f1_test = f1_score(y_test, y_pred_test)\n",
        "            precision_train = precision_score(y_train, y_pred_train)\n",
        "            precision_test = precision_score(y_test, y_pred_test)\n",
        "            train_loss = clf.score(X_train, y_train)\n",
        "            test_loss = clf.score(X_test, y_test)\n",
        "            print(f\"{name}\")\n",
        "            print(f\"Training Accuracy: {acc_train}\")\n",
        "            print(f\"Testing Accuracy: {acc_test}\")\n",
        "            print(f\"Training F1-score: {f1_train}\")\n",
        "            print(f\"Testing F1-score: {f1_test}\")\n",
        "            print(f\"Training Precision: {precision_train}\")\n",
        "            print(f\"Testing Precision: {precision_test}\")\n",
        "            print(f\"Training Loss: {train_loss}\")\n",
        "            print(f\"Testing Loss: {test_loss}\")\n",
        "            print(confusion_matrix(y_test, y_pred_test))\n",
        "            print(classification_report(y_test, y_pred_test))\n",
        "\n",
        "            log_reg_results[dataset_name] = {\n",
        "                'train_accuracy': acc_train,\n",
        "                'test_accuracy': acc_test,\n",
        "                'train_f1_score': f1_train,\n",
        "                'test_f1_score': f1_test,\n",
        "                'train_precision': precision_train,\n",
        "                'test_precision': precision_test,\n",
        "                'train_loss': train_loss,\n",
        "                'test_loss': test_loss,\n",
        "                'confusion_matrix': confusion_matrix(y_test, y_pred_test),\n",
        "                'classification_report': classification_report(y_test, y_pred_test)\n",
        "            }"
      ],
      "metadata": {
        "colab": {
          "base_uri": "https://localhost:8080/"
        },
        "id": "Hy1nzOj0deZa",
        "outputId": "3cee32c5-ba93-4bc8-f90e-eac64ae5022a"
      },
      "execution_count": null,
      "outputs": [
        {
          "output_type": "stream",
          "name": "stdout",
          "text": [
            "Dataset: BW\n",
            "Naive Bayes\n",
            "Training Accuracy: 0.8791512290489474\n",
            "Testing Accuracy: 0.7437325905292479\n",
            "Training F1-score: 0.7026206294485813\n",
            "Testing F1-score: 0.6870748299319729\n",
            "Training Precision: 0.8431712702203398\n",
            "Testing Precision: 0.9017857142857143\n",
            "Training Loss: 0.8791512290489474\n",
            "Testing Loss: 0.7437325905292479\n",
            "[[166  11]\n",
            " [ 81 101]]\n",
            "              precision    recall  f1-score   support\n",
            "\n",
            "           0       0.67      0.94      0.78       177\n",
            "           1       0.90      0.55      0.69       182\n",
            "\n",
            "    accuracy                           0.74       359\n",
            "   macro avg       0.79      0.75      0.74       359\n",
            "weighted avg       0.79      0.74      0.73       359\n",
            "\n",
            "Dataset: TF\n",
            "Naive Bayes\n",
            "Training Accuracy: 0.8608511551391174\n",
            "Testing Accuracy: 0.7576601671309192\n",
            "Training F1-score: 0.650117500359695\n",
            "Testing F1-score: 0.7030716723549488\n",
            "Training Precision: 0.8047493247053934\n",
            "Testing Precision: 0.9279279279279279\n",
            "Training Loss: 0.8608511551391174\n",
            "Testing Loss: 0.7576601671309192\n",
            "[[169   8]\n",
            " [ 79 103]]\n",
            "              precision    recall  f1-score   support\n",
            "\n",
            "           0       0.68      0.95      0.80       177\n",
            "           1       0.93      0.57      0.70       182\n",
            "\n",
            "    accuracy                           0.76       359\n",
            "   macro avg       0.80      0.76      0.75       359\n",
            "weighted avg       0.81      0.76      0.75       359\n",
            "\n"
          ]
        }
      ]
    },
    {
      "cell_type": "code",
      "source": [
        "import numpy as np\n",
        "import matplotlib.pyplot as plt\n",
        "\n",
        "for name, results in log_reg_results.items():\n",
        "    cm = results['confusion_matrix']\n",
        "    classes = np.unique(y_test)\n",
        "    fig, ax = plt.subplots()\n",
        "    im = ax.imshow(cm, interpolation='nearest', cmap=plt.cm.Blues)\n",
        "    ax.figure.colorbar(im, ax=ax)\n",
        "    ax.set(xticks=np.arange(cm.shape[1]),\n",
        "           yticks=np.arange(cm.shape[0]),\n",
        "           xticklabels=classes, yticklabels=classes,\n",
        "           ylabel='True label',\n",
        "           xlabel='Predicted label')\n",
        "    plt.title(f'{name} Confusion Matrix')\n",
        "    plt.setp(ax.get_xticklabels(), rotation=45, ha=\"right\",\n",
        "             rotation_mode=\"anchor\")\n",
        "    fmt = 'd'\n",
        "    thresh = cm.max() / 2.\n",
        "    for i in range(cm.shape[0]):\n",
        "        for j in range(cm.shape[1]):\n",
        "            ax.text(j, i, format(cm[i, j], fmt),\n",
        "                    ha=\"center\", va=\"center\",\n",
        "                    color=\"white\" if cm[i, j] > thresh else \"black\")\n",
        "    fig.tight_layout()\n",
        "    plt.show()"
      ],
      "metadata": {
        "colab": {
          "base_uri": "https://localhost:8080/",
          "height": 577
        },
        "id": "2Js8mKM0P0KG",
        "outputId": "93462eb1-27a2-46d3-8281-a0caba410953"
      },
      "execution_count": null,
      "outputs": [
        {
          "output_type": "display_data",
          "data": {
            "text/plain": [
              "<Figure size 432x288 with 2 Axes>"
            ],
            "image/png": "[encoded data removed]"
          },
          "metadata": {
            "needs_background": "light"
          }
        },
        {
          "output_type": "display_data",
          "data": {
            "text/plain": [
              "<Figure size 432x288 with 2 Axes>"
            ],
            "image/png": "[encoded data removed]"
          },
          "metadata": {
            "needs_background": "light"
          }
        }
      ]
    },
    {
      "cell_type": "code",
      "source": [
        "import matplotlib.pyplot as plt\n",
        "import numpy as np\n",
        "\n",
        "# get data from log_reg_results dictionary\n",
        "train_f1_BW = log_reg_results['BW']['train_f1_score']\n",
        "test_f1_BW = log_reg_results['BW']['test_f1_score']\n",
        "train_f1_TF = log_reg_results['TF']['train_f1_score']\n",
        "test_f1_TF = log_reg_results['TF']['test_f1_score']\n",
        "\n",
        "train_acc_BW = log_reg_results['BW']['train_accuracy']\n",
        "test_acc_BW = log_reg_results['BW']['test_accuracy']\n",
        "train_acc_TF = log_reg_results['TF']['train_accuracy']\n",
        "test_acc_TF = log_reg_results['TF']['test_accuracy']\n",
        "\n",
        "train_loss_BW = log_reg_results['BW']['train_loss']\n",
        "test_loss_BW = log_reg_results['BW']['test_loss']\n",
        "train_loss_TF = log_reg_results['TF']['train_loss']\n",
        "test_loss_TF = log_reg_results['TF']['test_loss']\n",
        "\n",
        "train_pre_BW = log_reg_results['BW']['train_precision']\n",
        "test_pre_BW = log_reg_results['BW']['test_precision']\n",
        "train_pre_TF = log_reg_results['TF']['train_precision']\n",
        "test_pre_TF = log_reg_results['TF']['test_precision']\n",
        "\n",
        "# create bar plots for Loss\n",
        "labels = ['BW', 'TF']\n",
        "train_losses = [train_loss_BW, train_loss_TF]\n",
        "test_losses = [test_loss_BW, test_loss_TF]\n",
        "x = np.arange(len(labels))\n",
        "width = 0.35\n",
        "\n",
        "fig, ax = plt.subplots()\n",
        "rects1 = ax.bar(x - width/2, train_losses, width, label='Training')\n",
        "rects2 = ax.bar(x + width/2, test_losses, width, label='Testing')\n",
        "\n",
        "ax.set_ylabel('Loss')\n",
        "ax.set_title('Comparison of Training and Testing Loss')\n",
        "ax.set_xticks(x)\n",
        "ax.set_xticklabels(labels)\n",
        "ax.legend(loc='lower right')\n",
        "\n",
        "# add numerical labels to bars\n",
        "for rect in rects1:\n",
        "    height = rect.get_height()\n",
        "    ax.annotate(f'{height:.2f}', xy=(rect.get_x() + rect.get_width() / 2, height),\n",
        "                xytext=(0, 3),  # 3 points vertical offset\n",
        "                textcoords=\"offset points\",\n",
        "                ha='center', va='bottom')\n",
        "for rect in rects2:\n",
        "    height = rect.get_height()\n",
        "    ax.annotate(f'{height:.2f}', xy=(rect.get_x() + rect.get_width() / 2, height),\n",
        "                xytext=(0, 3),  # 3 points vertical offset\n",
        "                textcoords=\"offset points\",\n",
        "                ha='center', va='bottom')\n",
        "\n",
        "plt.show()\n",
        "\n",
        "\n",
        "# create bar plots for F1-scores\n",
        "labels = ['BW', 'TF']\n",
        "train_f1 = [train_f1_BW, train_f1_TF]\n",
        "test_f1 = [test_f1_BW, test_f1_TF]\n",
        "x = np.arange(len(labels))\n",
        "width = 0.35\n",
        "\n",
        "fig, ax = plt.subplots()\n",
        "rects1 = ax.bar(x - width/2, train_f1, width, label='Training')\n",
        "rects2 = ax.bar(x + width/2, test_f1, width, label='Testing')\n",
        "\n",
        "ax.set_ylabel('F1-score')\n",
        "ax.set_title('Comparison of Training and Testing F1-score')\n",
        "ax.set_xticks(x)\n",
        "ax.set_xticklabels(labels)\n",
        "ax.legend(loc='lower right')\n",
        "\n",
        "# add numerical labels to bars\n",
        "for rect in rects1:\n",
        "    height = rect.get_height()\n",
        "    ax.annotate(f'{height:.2f}', xy=(rect.get_x() + rect.get_width() / 2, height),\n",
        "                xytext=(0, 3),  # 3 points vertical offset\n",
        "                textcoords=\"offset points\",\n",
        "                ha='center', va='bottom')\n",
        "for rect in rects2:\n",
        "    height = rect.get_height()\n",
        "    ax.annotate(f'{height:.2f}', xy=(rect.get_x() + rect.get_width() / 2, height),\n",
        "                xytext=(0, 3),  # 3 points vertical offset\n",
        "                textcoords=\"offset points\",\n",
        "                ha='center', va='bottom')\n",
        "\n",
        "plt.show()\n",
        "\n",
        "# create bar plots for Accuracy\n",
        "train_acc = [train_acc_BW, train_acc_TF]\n",
        "test_acc = [test_acc_BW, test_acc_TF]\n",
        "\n",
        "fig, ax = plt.subplots()\n",
        "rects1 = ax.bar(x - width/2, train_acc, width, label='Training')\n",
        "rects2 = ax.bar(x + width/2, test_acc, width, label='Testing')\n",
        "\n",
        "ax.set_ylabel('Accuracy')\n",
        "ax.set_title('Comparison of Training and Testing Accuracy')\n",
        "ax.set_xticks(x)\n",
        "ax.set_xticklabels(labels)\n",
        "ax.legend(loc='lower right')\n",
        "\n",
        "# add numerical labels to bars\n",
        "for rect in rects1:\n",
        "    height = rect.get_height()\n",
        "    ax.annotate(f'{height:.2f}', xy=(rect.get_x() + rect.get_width() / 2, height),\n",
        "                xytext=(0, 3),  # 3 points vertical offset\n",
        "                textcoords=\"offset points\",\n",
        "                ha='center', va='bottom')\n",
        "for rect in rects2:\n",
        "    height = rect.get_height()\n",
        "    ax.annotate(f'{height:.2f}', xy=(rect.get_x() + rect.get_width() / 2, height),\n",
        "                xytext=(0, 3),  # 3 points vertical offset\n",
        "                textcoords=\"offset points\",\n",
        "                ha='center', va='bottom')\n",
        "\n",
        "plt.show()\n",
        "\n",
        "# create bar plots for Accuracy\n",
        "train_pre = [train_pre_BW, train_pre_TF]\n",
        "test_pre = [test_pre_BW, test_pre_TF]\n",
        "\n",
        "fig, ax = plt.subplots()\n",
        "rects1 = ax.bar(x - width/2, train_pre, width, label='Training')\n",
        "rects2 = ax.bar(x + width/2, test_pre, width, label='Testing')\n",
        "\n",
        "ax.set_ylabel('Precision')\n",
        "ax.set_title('Comparison of Training and Testing Precision')\n",
        "ax.set_xticks(x)\n",
        "ax.set_xticklabels(labels)\n",
        "ax.legend(loc='lower right')\n",
        "\n",
        "# add numerical labels to bars\n",
        "for rect in rects1:\n",
        "    height = rect.get_height()\n",
        "    ax.annotate(f'{height:.2f}', xy=(rect.get_x() + rect.get_width() / 2, height),\n",
        "                xytext=(0, 3),  # 3 points vertical offset\n",
        "                textcoords=\"offset points\",\n",
        "                ha='center', va='bottom')\n",
        "for rect in rects2:\n",
        "    height = rect.get_height()\n",
        "    ax.annotate(f'{height:.2f}', xy=(rect.get_x() + rect.get_width() / 2, height),\n",
        "                xytext=(0, 3),  # 3 points vertical offset\n",
        "                textcoords=\"offset points\",\n",
        "                ha='center', va='bottom')\n",
        "\n",
        "plt.show()"
      ],
      "metadata": {
        "colab": {
          "base_uri": "https://localhost:8080/",
          "height": 1000
        },
        "id": "1aytWyhlUsqE",
        "outputId": "b91fd0a5-7e38-4d93-811c-afbb162c2f81"
      },
      "execution_count": null,
      "outputs": [
        {
          "output_type": "display_data",
          "data": {
            "text/plain": [
              "<Figure size 432x288 with 1 Axes>"
            ],
            "image/png": "[encoded data removed]"
          },
          "metadata": {
            "needs_background": "light"
          }
        },
        {
          "output_type": "display_data",
          "data": {
            "text/plain": [
              "<Figure size 432x288 with 1 Axes>"
            ],
            "image/png": "[encoded data removed]"
          },
          "metadata": {
            "needs_background": "light"
          }
        },
        {
          "output_type": "display_data",
          "data": {
            "text/plain": [
              "<Figure size 432x288 with 1 Axes>"
            ],
            "image/png": "[encoded data removed]"
          },
          "metadata": {
            "needs_background": "light"
          }
        },
        {
          "output_type": "display_data",
          "data": {
            "text/plain": [
              "<Figure size 432x288 with 1 Axes>"
            ],
            "image/png": "[encoded data removed]"
          },
          "metadata": {
            "needs_background": "light"
          }
        }
      ]
    },
    {
      "cell_type": "markdown",
      "source": [
        "### Word2vec with six models"
      ],
      "metadata": {
        "id": "hK3MCMRk0K9o"
      }
    },
    {
      "cell_type": "code",
      "source": [
        "import pandas as pd\n",
        "import numpy as np\n",
        "import re\n",
        "import nltk\n",
        "from nltk.corpus import stopwords\n",
        "from gensim.models import Word2Vec\n",
        "from sklearn.linear_model import LogisticRegression\n",
        "from sklearn.naive_bayes import MultinomialNB\n",
        "from sklearn.neural_network import MLPClassifier\n",
        "from sklearn.metrics import accuracy_score\n",
        "from sklearn.feature_extraction.text import CountVectorizer, TfidfTransformer\n",
        "from sklearn.ensemble import RandomForestClassifier\n",
        "from sklearn.svm import LinearSVC\n",
        "from sklearn.ensemble import GradientBoostingClassifier\n",
        "from sklearn.metrics import accuracy_score\n",
        "from sklearn.tree import DecisionTreeClassifier\n",
        "from sklearn.metrics import accuracy_score\n",
        "from sklearn.neighbors import KNeighborsClassifier\n",
        "\n",
        "# Load data\n",
        "train_df = pd.read_csv('/content/coding_assignment_2/train.csv')\n",
        "test_df = pd.read_csv('/content/coding_assignment_2/test.csv')\n",
        "\n",
        "# Preprocessing\n",
        "nltk.download('stopwords')\n",
        "stop_words = stopwords.words('english')\n",
        "\n",
        "def preprocess(text):\n",
        "    # Remove non-alphabetic characters and convert to lowercase\n",
        "    text = re.sub('[^a-zA-Z]', ' ', text).lower()\n",
        "    # Remove stop words\n",
        "    words = text.split()\n",
        "    words = [w for w in words if not w in stop_words]\n",
        "    # Join words back into text\n",
        "    return ' '.join(words)\n",
        "\n",
        "train_df['Text'] = train_df['Text'].apply(preprocess)\n",
        "test_df['Text'] = test_df['Text'].apply(preprocess)\n",
        "\n",
        "# Extract word2vec features\n",
        "sentences_train = [text.split() for text in train_df['Text']]\n",
        "sentences_test = [text.split() for text in test_df['Text']]\n",
        "model = Word2Vec(sentences_train + sentences_test, min_count=1)\n",
        "word_vectors = model.wv"
      ],
      "metadata": {
        "colab": {
          "base_uri": "https://localhost:8080/"
        },
        "id": "pvdzvQp_VN2q",
        "outputId": "2c6d7389-ae8e-46a1-d40c-c73e94739326"
      },
      "execution_count": 4,
      "outputs": [
        {
          "output_type": "stream",
          "name": "stderr",
          "text": [
            "[nltk_data] Downloading package stopwords to /root/nltk_data...\n",
            "[nltk_data]   Unzipping corpora/stopwords.zip.\n"
          ]
        }
      ]
    },
    {
      "cell_type": "code",
      "source": [
        "def get_word_vectors(sentences):\n",
        "    # Remove out-of-vocabulary words\n",
        "    vectors = []\n",
        "    for sentence in sentences:\n",
        "        vector = []\n",
        "        for word in sentence:\n",
        "            if word in word_vectors.vocab:\n",
        "                vector.append(word_vectors[word])\n",
        "        vectors.append(vector)\n",
        "    return vectors\n",
        "\n",
        "def get_document_vector(word_vectors, doc):\n",
        "    # Compute the average vector of words in the document\n",
        "    vectors = get_word_vectors([doc])\n",
        "    if len(vectors[0]) == 0:\n",
        "        # If there are no vectors for any words in the document, return a zero vector\n",
        "        return np.zeros((model.vector_size,))\n",
        "    else:\n",
        "        return np.mean(vectors[0], axis=0)\n",
        "\n",
        "X_train = np.array([get_document_vector(word_vectors, doc) for doc in sentences_train])\n",
        "y_train = train_df['Sentiment']\n",
        "X_test = np.array([get_document_vector(word_vectors, doc) for doc in sentences_test])\n",
        "y_test = test_df['Sentiment']\n",
        "\n",
        "# Transform the word vectors into a sparse matrix of integer counts\n",
        "vectorizer = CountVectorizer()\n",
        "X_train_counts = vectorizer.fit_transform(train_df['Text'])\n",
        "X_test_counts = vectorizer.transform(test_df['Text'])\n",
        "\n",
        "# Transform the count matrix into a sparse matrix of tf-idf features\n",
        "transformer = TfidfTransformer()\n",
        "X_train_tfidf = transformer.fit_transform(X_train_counts)\n",
        "X_test_tfidf = transformer.transform(X_test_counts)"
      ],
      "metadata": {
        "id": "KWQQmRvhVqDs"
      },
      "execution_count": 5,
      "outputs": []
    },
    {
      "cell_type": "code",
      "source": [
        "# Train and evaluate Logistic Regression model\n",
        "lr = LogisticRegression(max_iter=1000)\n",
        "lr.fit(X_train_tfidf, y_train)\n",
        "y_pred_lr = lr.predict(X_test_tfidf)\n",
        "acc_lr = accuracy_score(y_test, y_pred_lr)\n",
        "print(\"Logistic Regression accuracy:\", acc_lr)"
      ],
      "metadata": {
        "colab": {
          "base_uri": "https://localhost:8080/"
        },
        "id": "GiU4d6MXvOsz",
        "outputId": "9fc000e1-d164-41d5-de81-0575f9d8825c"
      },
      "execution_count": 6,
      "outputs": [
        {
          "output_type": "stream",
          "name": "stdout",
          "text": [
            "Logistic Regression accuracy: 0.7576601671309192\n"
          ]
        }
      ]
    },
    {
      "cell_type": "code",
      "source": [
        "# Train and evaluate Multinomial Naive Bayes model\n",
        "nb = MultinomialNB()\n",
        "nb.fit(X_train_counts, y_train)\n",
        "y_pred_nb = nb.predict(X_test_counts)\n",
        "acc_nb = accuracy_score(y_test, y_pred_nb)\n",
        "print(\"Multinomial Naive Bayes accuracy:\", acc_nb)"
      ],
      "metadata": {
        "colab": {
          "base_uri": "https://localhost:8080/"
        },
        "id": "YhHCPBZDclKB",
        "outputId": "6d9e0b33-c694-4700-f6ae-9c62fa4e9920"
      },
      "execution_count": 7,
      "outputs": [
        {
          "output_type": "stream",
          "name": "stdout",
          "text": [
            "Multinomial Naive Bayes accuracy: 0.6908077994428969\n"
          ]
        }
      ]
    },
    {
      "cell_type": "code",
      "source": [
        "# Train and evaluate Support Vector Machine (SVM) model\n",
        "svm = LinearSVC(max_iter=10000)\n",
        "svm.fit(X_train_tfidf, y_train)\n",
        "y_pred_svm = svm.predict(X_test_tfidf)\n",
        "acc_svm = accuracy_score(y_test, y_pred_svm)\n",
        "print(\"Support Vector Machine accuracy:\", acc_svm)"
      ],
      "metadata": {
        "colab": {
          "base_uri": "https://localhost:8080/"
        },
        "id": "iCvhNFoyb7OA",
        "outputId": "529c262f-a721-460e-fef0-d192ff9b5ff6"
      },
      "execution_count": 8,
      "outputs": [
        {
          "output_type": "stream",
          "name": "stdout",
          "text": [
            "Support Vector Machine accuracy: 0.7186629526462396\n"
          ]
        }
      ]
    },
    {
      "cell_type": "code",
      "source": [
        "# Train and evaluate Random Forest Classifier model\n",
        "rfc = RandomForestClassifier(n_estimators=100, max_depth=10)\n",
        "rfc.fit(X_train_tfidf, y_train)\n",
        "y_pred_rfc = rfc.predict(X_test_tfidf)\n",
        "acc_rfc = accuracy_score(y_test, y_pred_rfc)\n",
        "print(\"Random Forest Classifier accuracy:\", acc_rfc)"
      ],
      "metadata": {
        "colab": {
          "base_uri": "https://localhost:8080/"
        },
        "id": "PB4p0hvHvQro",
        "outputId": "a614ff01-af2a-4c85-e8ad-f1340fdfdfe7"
      },
      "execution_count": 9,
      "outputs": [
        {
          "output_type": "stream",
          "name": "stdout",
          "text": [
            "Random Forest Classifier accuracy: 0.49303621169916434\n"
          ]
        }
      ]
    },
    {
      "cell_type": "code",
      "source": [
        "dtc = DecisionTreeClassifier(max_depth=None, max_features=None)\n",
        "dtc.fit(X_train_tfidf, y_train)\n",
        "y_pred_dtc = dtc.predict(X_test_tfidf)\n",
        "acc_dtc = accuracy_score(y_test, y_pred_dtc)\n",
        "print(\"Decision Tree Classifier accuracy:\", acc_dtc)"
      ],
      "metadata": {
        "colab": {
          "base_uri": "https://localhost:8080/"
        },
        "id": "mxnueiYQvV6K",
        "outputId": "1cf3ddc7-13bf-4ca4-e51a-81419fd45be8"
      },
      "execution_count": 10,
      "outputs": [
        {
          "output_type": "stream",
          "name": "stdout",
          "text": [
            "Decision Tree Classifier accuracy: 0.6685236768802229\n"
          ]
        }
      ]
    },
    {
      "cell_type": "code",
      "source": [
        "knn = KNeighborsClassifier(n_neighbors=5)\n",
        "knn.fit(X_train_tfidf, y_train)\n",
        "y_pred_knn = knn.predict(X_test_tfidf)\n",
        "acc_knn = accuracy_score(y_test, y_pred_knn)\n",
        "print(\"KNN Classifier accuracy:\", acc_knn)"
      ],
      "metadata": {
        "colab": {
          "base_uri": "https://localhost:8080/"
        },
        "id": "TmkSBd9I6NGh",
        "outputId": "61fd8160-9b38-4c36-e8b0-c51bbc4dc557"
      },
      "execution_count": 11,
      "outputs": [
        {
          "output_type": "stream",
          "name": "stdout",
          "text": [
            "KNN Classifier accuracy: 0.532033426183844\n"
          ]
        }
      ]
    },
    {
      "cell_type": "code",
      "source": [
        "import matplotlib.pyplot as plt\n",
        "\n",
        "# Set the accuracy scores for the three models\n",
        "accuracies = [acc_rfc, acc_svm, acc_dtc]\n",
        "\n",
        "# Set the labels for the bars\n",
        "labels = ['Random Forest Classifier', 'Support Vector Machine', 'Decision Tree Classifier']\n",
        "\n",
        "# Set the colors for the bars\n",
        "colors = ['green', 'yellow', 'purple']\n",
        "\n",
        "# Create the bar graph\n",
        "plt.bar(labels, accuracies, color=colors)\n",
        "\n",
        "# Set the title and axis labels\n",
        "plt.title('Model Comparison')\n",
        "plt.xlabel('Models')\n",
        "plt.ylabel('Accuracy')\n",
        "\n",
        "# Show the plot\n",
        "plt.show()"
      ],
      "metadata": {
        "colab": {
          "base_uri": "https://localhost:8080/",
          "height": 295
        },
        "id": "iNwKy-eFda_6",
        "outputId": "a3851187-db0e-4063-88f1-5cb471b5cd15"
      },
      "execution_count": 12,
      "outputs": [
        {
          "output_type": "display_data",
          "data": {
            "text/plain": [
              "<Figure size 432x288 with 1 Axes>"
            ],
            "image/png": "[encoded data removed]"
          },
          "metadata": {
            "needs_background": "light"
          }
        }
      ]
    },
    {
      "cell_type": "code",
      "source": [
        "import matplotlib.pyplot as plt\n",
        "\n",
        "# Set the accuracy scores for the three models\n",
        "accuracies = [acc_lr, acc_nb, acc_knn]\n",
        "\n",
        "# Set the labels for the bars\n",
        "labels = ['Logistic Regression', 'Multinomial NB', 'KNN Classifier']\n",
        "\n",
        "# Set the colors for the bars\n",
        "colors = ['blue', 'orange', 'red']\n",
        "\n",
        "# Create the bar graph\n",
        "plt.bar(labels, accuracies, color=colors)\n",
        "\n",
        "# Set the title and axis labels\n",
        "plt.title('Model Comparison')\n",
        "plt.xlabel('Models')\n",
        "plt.ylabel('Accuracy')\n",
        "\n",
        "# Show the plot\n",
        "plt.show()"
      ],
      "metadata": {
        "colab": {
          "base_uri": "https://localhost:8080/",
          "height": 295
        },
        "id": "7UkOCPQuagGE",
        "outputId": "01d74e24-f7a4-40c4-cb95-1805419901bb"
      },
      "execution_count": 13,
      "outputs": [
        {
          "output_type": "display_data",
          "data": {
            "text/plain": [
              "<Figure size 432x288 with 1 Axes>"
            ],
            "image/png": "[encoded data removed]"
          },
          "metadata": {
            "needs_background": "light"
          }
        }
      ]
    },
    {
      "cell_type": "code",
      "source": [
        "from sklearn.linear_model import LogisticRegression\n",
        "from sklearn.model_selection import GridSearchCV\n",
        "from sklearn.metrics import accuracy_score\n",
        "\n",
        "# Define the hyperparameter grid to search over\n",
        "param_grid = {\n",
        "    'penalty': ['l1', 'l2', 'elasticnet', 'none'],\n",
        "    'C': [0.01, 0.1, 1, 10, 100],\n",
        "    'solver': ['newton-cg', 'lbfgs', 'liblinear', 'sag', 'saga']\n",
        "}\n",
        "\n",
        "# Create a Logistic Regression object\n",
        "lr = LogisticRegression()\n",
        "\n",
        "# Create a GridSearchCV object with the hyperparameter grid and the Logistic Regression\n",
        "grid_search = GridSearchCV(lr, param_grid, cv=5, scoring='accuracy')\n",
        "\n",
        "# Fit the GridSearchCV object to the training data\n",
        "grid_search.fit(X_train_tfidf, y_train)\n",
        "\n",
        "# Get the best hyperparameters and the best accuracy score\n",
        "best_params = grid_search.best_params_\n",
        "best_score = grid_search.best_score_\n",
        "\n",
        "# Create a new Logistic Regression with the best hyperparameters and fit it to the training data\n",
        "lr_best = LogisticRegression(penalty=best_params['penalty'],\n",
        "                             C=best_params['C'],\n",
        "                             solver=best_params['solver'])\n",
        "lr_best.fit(X_train_tfidf, y_train)\n",
        "\n",
        "# Use the new Logistic Regression to make predictions on the test data and calculate the accuracy score\n",
        "y_pred_lr_best = lr_best.predict(X_test_tfidf)\n",
        "acc_lr_best = accuracy_score(y_test, y_pred_lr_best)\n",
        "\n",
        "# Print the best hyperparameters and the accuracy score\n",
        "print(\"Best hyperparameters:\", best_params)\n",
        "print(\"Best accuracy score:\", best_score)\n",
        "print(\"Logistic Regression accuracy with best hyperparameters:\", acc_lr_best)"
      ],
      "metadata": {
        "id": "Xsj1bpiJwdHq"
      },
      "execution_count": null,
      "outputs": []
    },
    {
      "cell_type": "code",
      "source": [
        "from sklearn.naive_bayes import MultinomialNB\n",
        "from sklearn.model_selection import GridSearchCV\n",
        "from sklearn.metrics import accuracy_score\n",
        "\n",
        "# Define the hyperparameter grid to search over\n",
        "param_grid = {\n",
        "    'alpha': [0.1, 0.5, 1.0, 2.0, 5.0, 10.0]\n",
        "}\n",
        "\n",
        "# Create a Multinomial Naive Bayes object\n",
        "mnb = MultinomialNB()\n",
        "\n",
        "# Create a GridSearchCV object with the hyperparameter grid and the Multinomial Naive Bayes\n",
        "grid_search = GridSearchCV(mnb, param_grid, cv=5, scoring='accuracy')\n",
        "\n",
        "# Fit the GridSearchCV object to the training data\n",
        "grid_search.fit(X_train_tfidf, y_train)\n",
        "\n",
        "# Get the best hyperparameters and the best accuracy score\n",
        "best_params = grid_search.best_params_\n",
        "best_score = grid_search.best_score_\n",
        "\n",
        "# Create a new Multinomial Naive Bayes with the best hyperparameters and fit it to the training data\n",
        "mnb_best = MultinomialNB(alpha=best_params['alpha'])\n",
        "mnb_best.fit(X_train_tfidf, y_train)\n",
        "\n",
        "# Use the new Multinomial Naive Bayes to make predictions on the test data and calculate the accuracy score\n",
        "y_pred_mnb_best = mnb_best.predict(X_test_tfidf)\n",
        "acc_mnb_best = accuracy_score(y_test, y_pred_mnb_best)\n",
        "\n",
        "# Print the best hyperparameters and the accuracy score\n",
        "print(\"Best hyperparameters:\", best_params)\n",
        "print(\"Best accuracy score:\", best_score)\n",
        "print(\"Multinomial Naive Bayes accuracy:\", acc_mnb_best) "
      ],
      "metadata": {
        "id": "vc89LATFwgAy"
      },
      "execution_count": null,
      "outputs": []
    },
    {
      "cell_type": "code",
      "source": [
        "from sklearn.svm import SVC\n",
        "from sklearn.model_selection import GridSearchCV\n",
        "from sklearn.metrics import accuracy_score\n",
        "\n",
        "# Define the hyperparameter grid to search over\n",
        "param_grid = {\n",
        "    'C': [0.1, 1, 10, 100],\n",
        "    'kernel': ['linear', 'poly', 'rbf', 'sigmoid'],\n",
        "    'gamma': ['scale', 'auto']\n",
        "}\n",
        "\n",
        "# Create an SVM object\n",
        "svm = SVC()\n",
        "\n",
        "# Create a GridSearchCV object with the hyperparameter grid and the SVM\n",
        "grid_search = GridSearchCV(svm, param_grid, cv=5, scoring='accuracy')\n",
        "\n",
        "# Fit the GridSearchCV object to the training data\n",
        "grid_search.fit(X_train_tfidf, y_train)\n",
        "\n",
        "# Get the best hyperparameters and the best accuracy score\n",
        "best_params = grid_search.best_params_\n",
        "best_score = grid_search.best_score_\n",
        "\n",
        "# Create a new SVM with the best hyperparameters and fit it to the training data\n",
        "svm_best = SVC(C=best_params['C'],\n",
        "               kernel=best_params['kernel'],\n",
        "               gamma=best_params['gamma'])\n",
        "svm_best.fit(X_train_tfidf, y_train)\n",
        "\n",
        "# Use the new SVM to make predictions on the test data and calculate the accuracy score\n",
        "y_pred_svm_best = svm_best.predict(X_test_tfidf)\n",
        "acc_svm_best = accuracy_score(y_test, y_pred_svm_best)\n",
        "\n",
        "# Print the best hyperparameters and the accuracy score\n",
        "print(\"Best hyperparameters:\", best_params)\n",
        "print(\"Best accuracy score:\", best_score)\n",
        "print(\"SVM accuracy with best hyperparameters:\", acc_svm_best)"
      ],
      "metadata": {
        "id": "lEf21twiw2Wr"
      },
      "execution_count": null,
      "outputs": []
    },
    {
      "cell_type": "code",
      "source": [
        "from sklearn.ensemble import RandomForestClassifier\n",
        "from sklearn.model_selection import GridSearchCV\n",
        "from sklearn.metrics import accuracy_score\n",
        "\n",
        "# Define the hyperparameter grid to search over\n",
        "param_grid = {\n",
        "    'n_estimators': [50, 100, 200],\n",
        "    'max_depth': [5, 10, 20],\n",
        "    'min_samples_split': [2, 5, 10],\n",
        "    'min_samples_leaf': [1, 2, 4]\n",
        "}\n",
        "\n",
        "# Create a Random Forest Classifier object\n",
        "rfc = RandomForestClassifier()\n",
        "\n",
        "# Create a GridSearchCV object with the hyperparameter grid and the Random Forest Classifier\n",
        "grid_search = GridSearchCV(rfc, param_grid, cv=5, scoring='accuracy')\n",
        "\n",
        "# Fit the GridSearchCV object to the training data\n",
        "grid_search.fit(X_train_tfidf, y_train)\n",
        "\n",
        "# Get the best hyperparameters and the best accuracy score\n",
        "best_params = grid_search.best_params_\n",
        "best_score = grid_search.best_score_\n",
        "\n",
        "# Create a new Random Forest Classifier with the best hyperparameters and fit it to the training data\n",
        "rfc_best = RandomForestClassifier(n_estimators=best_params['n_estimators'],\n",
        "                                   max_depth=best_params['max_depth'],\n",
        "                                   min_samples_split=best_params['min_samples_split'],\n",
        "                                   min_samples_leaf=best_params['min_samples_leaf'])\n",
        "rfc_best.fit(X_train_tfidf, y_train)\n",
        "\n",
        "# Use the new Random Forest Classifier to make predictions on the test data and calculate the accuracy score\n",
        "y_pred_rfc_best = rfc_best.predict(X_test_tfidf)\n",
        "acc_rfc_best = accuracy_score(y_test, y_pred_rfc_best)\n",
        "\n",
        "# Print the best hyperparameters and the accuracy score\n",
        "print(\"Best hyperparameters:\", best_params)\n",
        "print(\"Best accuracy score:\", best_score)\n",
        "print(\"Random Forest Classifier accuracy with best hyperparameters:\", acc_rfc_best)\n"
      ],
      "metadata": {
        "id": "1wsvACPtwjZP"
      },
      "execution_count": null,
      "outputs": []
    },
    {
      "cell_type": "code",
      "source": [
        "from sklearn.tree import DecisionTreeClassifier\n",
        "from sklearn.model_selection import GridSearchCV\n",
        "from sklearn.metrics import accuracy_score\n",
        "\n",
        "# Define the hyperparameter grid to search over\n",
        "param_grid = {\n",
        "    'criterion': ['gini', 'entropy'],\n",
        "    'max_depth': [5, 10, 20, None],\n",
        "    'min_samples_split': [2, 5, 10],\n",
        "    'min_samples_leaf': [1, 2, 4],\n",
        "    'max_features': ['sqrt', 'log2', None]\n",
        "}\n",
        "\n",
        "# Create a DecisionTreeClassifier object\n",
        "dtc = DecisionTreeClassifier()\n",
        "\n",
        "# Create a GridSearchCV object with the hyperparameter grid and the DecisionTreeClassifier\n",
        "grid_search = GridSearchCV(dtc, param_grid, cv=5, scoring='accuracy')\n",
        "\n",
        "# Fit the GridSearchCV object to the training data\n",
        "grid_search.fit(X_train_tfidf, y_train)\n",
        "\n",
        "# Get the best hyperparameters and the best accuracy score\n",
        "best_params = grid_search.best_params_\n",
        "best_score = grid_search.best_score_\n",
        "\n",
        "# Create a new DecisionTreeClassifier with the best hyperparameters and fit it to the training data\n",
        "dtc_best = DecisionTreeClassifier(criterion=best_params['criterion'],\n",
        "                                  max_depth=best_params['max_depth'],\n",
        "                                  min_samples_split=best_params['min_samples_split'],\n",
        "                                  min_samples_leaf=best_params['min_samples_leaf'],\n",
        "                                  max_features=best_params['max_features'])\n",
        "dtc_best.fit(X_train_tfidf, y_train)\n",
        "\n",
        "# Use the new DecisionTreeClassifier to make predictions on the test data and calculate the accuracy score\n",
        "y_pred_dtc_best = dtc_best.predict(X_test_tfidf)\n",
        "acc_dtc_best = accuracy_score(y_test, y_pred_dtc_best)\n",
        "\n",
        "# Print the best hyperparameters and the accuracy score\n",
        "print(\"Best hyperparameters:\", best_params)\n",
        "print(\"Best accuracy score:\", best_score)\n",
        "print(\"Decision Tree Classifier accuracy with best hyperparameters:\", acc_dtc_best)"
      ],
      "metadata": {
        "id": "9xZ7GfHlxQi9"
      },
      "execution_count": null,
      "outputs": []
    },
    {
      "cell_type": "code",
      "source": [
        "from sklearn.neighbors import KNeighborsClassifier\n",
        "from sklearn.model_selection import GridSearchCV\n",
        "from sklearn.metrics import accuracy_score\n",
        "\n",
        "# Define the hyperparameter grid to search over\n",
        "param_grid = {\n",
        "    'n_neighbors': [3, 5, 7, 9, 11],\n",
        "    'weights': ['uniform', 'distance'],\n",
        "    'algorithm': ['auto', 'ball_tree', 'kd_tree', 'brute'],\n",
        "    'p': [1, 2]\n",
        "}\n",
        "\n",
        "# Create a KNeighborsClassifier object\n",
        "knn = KNeighborsClassifier()\n",
        "\n",
        "# Create a GridSearchCV object with the hyperparameter grid and the KNeighborsClassifier\n",
        "grid_search = GridSearchCV(knn, param_grid, cv=5, scoring='accuracy')\n",
        "\n",
        "# Fit the GridSearchCV object to the training data\n",
        "grid_search.fit(X_train_tfidf, y_train)\n",
        "\n",
        "# Get the best hyperparameters and the best accuracy score\n",
        "best_params = grid_search.best_params_\n",
        "best_score = grid_search.best_score_\n",
        "\n",
        "# Create a new KNeighborsClassifier with the best hyperparameters and fit it to the training data\n",
        "knn_best = KNeighborsClassifier(n_neighbors=best_params['n_neighbors'],\n",
        "                                 weights=best_params['weights'],\n",
        "                                 algorithm=best_params['algorithm'],\n",
        "                                 p=best_params['p'])\n",
        "knn_best.fit(X_train_tfidf, y_train)\n",
        "\n",
        "# Use the new KNeighborsClassifier to make predictions on the test data and calculate the accuracy score\n",
        "y_pred_knn_best = knn_best.predict(X_test_tfidf)\n",
        "acc_knn_best = accuracy_score(y_test, y_pred_knn_best)\n",
        "\n",
        "# Print the best hyperparameters and the accuracy score\n",
        "print(\"Best hyperparameters:\", best_params)\n",
        "print(\"Best accuracy score:\", best_score)\n",
        "print(\"KNN Classifier accuracy with best hyperparameters:\", acc_knn_best)"
      ],
      "metadata": {
        "id": "rudFN19ux1zz"
      },
      "execution_count": null,
      "outputs": []
    }
  ]
}